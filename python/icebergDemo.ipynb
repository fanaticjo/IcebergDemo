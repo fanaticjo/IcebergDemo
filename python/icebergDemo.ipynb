{
 "cells": [
  {
   "cell_type": "code",
   "id": "initial_id",
   "metadata": {
    "collapsed": true,
    "ExecuteTime": {
     "end_time": "2024-07-01T15:32:43.208981Z",
     "start_time": "2024-07-01T15:32:15.676100Z"
    }
   },
   "source": [
    "%%configure -f\n",
    "{\n",
    "\"conf\":{\n",
    "    \"spark.sql.extensions\":\"org.apache.iceberg.spark.extensions.IcebergSparkSessionExtensions\"\n",
    "    },\n",
    "    \"jars\":[\n",
    "        \"s3://mxtdw-audit-gamma/jars/iceberg-spark3-runtime.jar\"\n",
    "    ]\n",
    "}"
   ],
   "outputs": [
    {
     "name": "stdout",
     "output_type": "stream",
     "text": [
      "Starting Spark application\n"
     ]
    },
    {
     "data": {
      "text/plain": [
       "<IPython.core.display.HTML object>"
      ],
      "text/html": [
       "<table>\n",
       "<tr><th>ID</th><th>YARN Application ID</th><th>Kind</th><th>State</th><th>Spark UI</th><th>Driver log</th><th>User</th><th>Current session?</th></tr><tr><td>24</td><td>application_1718585345363_0025</td><td>pyspark</td><td>idle</td><td><a target=\"_blank\" href=\"http://ip-10-0-27-34.ec2.internal:20888/proxy/application_1718585345363_0025/\">Link</a></td><td><a target=\"_blank\" href=\"http://ip-10-0-30-147.ec2.internal:8042/node/containerlogs/container_1718585345363_0025_01_000001/livy\">Link</a></td><td>None</td><td>✔</td></tr></table>"
      ]
     },
     "metadata": {},
     "output_type": "display_data"
    },
    {
     "data": {
      "text/plain": [
       "FloatProgress(value=0.0, bar_style='info', description='Progress:', layout=Layout(height='25px', width='50%'),…"
      ],
      "application/vnd.jupyter.widget-view+json": {
       "version_major": 2,
       "version_minor": 0,
       "model_id": "20da2c3a64ee4345bc92451e27d037e6"
      }
     },
     "metadata": {},
     "output_type": "display_data"
    },
    {
     "name": "stdout",
     "output_type": "stream",
     "text": [
      "SparkSession available as 'spark'.\n"
     ]
    },
    {
     "data": {
      "text/plain": [
       "<IPython.core.display.HTML object>"
      ],
      "text/html": [
       "Current session configs: <tt>{'conf': {'spark.sql.catalog.spark_catalog.type': 'hive', 'spark.sql.extensions': 'org.apache.iceberg.spark.extensions.IcebergSparkSessionExtensions'}, 'jars': ['s3://mxtdw-audit-gamma/jars/iceberg-spark3-runtime.jar'], 'kind': 'pyspark'}</tt><br>"
      ]
     },
     "metadata": {},
     "output_type": "display_data"
    },
    {
     "data": {
      "text/plain": [
       "<IPython.core.display.HTML object>"
      ],
      "text/html": [
       "<table>\n",
       "<tr><th>ID</th><th>YARN Application ID</th><th>Kind</th><th>State</th><th>Spark UI</th><th>Driver log</th><th>User</th><th>Current session?</th></tr><tr><td>22</td><td>application_1718585345363_0023</td><td>pyspark</td><td>idle</td><td><a target=\"_blank\" href=\"http://ip-10-0-27-34.ec2.internal:20888/proxy/application_1718585345363_0023/\">Link</a></td><td><a target=\"_blank\" href=\"http://ip-10-0-23-34.ec2.internal:8042/node/containerlogs/container_1718585345363_0023_01_000001/livy\">Link</a></td><td>None</td><td></td></tr><tr><td>24</td><td>application_1718585345363_0025</td><td>pyspark</td><td>idle</td><td><a target=\"_blank\" href=\"http://ip-10-0-27-34.ec2.internal:20888/proxy/application_1718585345363_0025/\">Link</a></td><td><a target=\"_blank\" href=\"http://ip-10-0-30-147.ec2.internal:8042/node/containerlogs/container_1718585345363_0025_01_000001/livy\">Link</a></td><td>None</td><td>✔</td></tr></table>"
      ]
     },
     "metadata": {},
     "output_type": "display_data"
    }
   ],
   "execution_count": 2
  },
  {
   "metadata": {
    "ExecuteTime": {
     "end_time": "2024-07-01T15:43:37.347854Z",
     "start_time": "2024-07-01T15:43:36.941728Z"
    }
   },
   "cell_type": "code",
   "source": [
    "from pyspark.sql import SparkSession\n",
    "catalog_name = \"glue_catalog\"\n",
    "bucket_name = \"mxtdw-audit-gamma\"\n",
    "bucket_prefix = \"demo_iceberg/\"\n",
    "database_name = \"playground\"\n",
    "warehouse_path = f\"s3://{bucket_name}/{bucket_prefix}\"\n",
    "spark = SparkSession.builder \\\n",
    "    .config(f\"spark.sql.catalog.{catalog_name}\", \"org.apache.iceberg.spark.SparkCatalog\") \\\n",
    "    .config(f\"spark.sql.catalog.{catalog_name}.warehouse\", f\"{warehouse_path}\") \\\n",
    "    .config(f\"spark.sql.catalog.{catalog_name}.catalog-impl\", \"org.apache.iceberg.aws.glue.GlueCatalog\") \\\n",
    "    .config(f\"spark.sql.catalog.{catalog_name}.io-impl\", \"org.apache.iceberg.aws.s3.S3FileIO\") \\\n",
    "    .config(\"spark.sql.extensions\",\"org.apache.iceberg.spark.extensions.IcebergSparkSessionExtensions\") \\\n",
    "    .getOrCreate()"
   ],
   "id": "bc031b4feeb4c43b",
   "outputs": [
    {
     "data": {
      "text/plain": [
       "FloatProgress(value=0.0, bar_style='info', description='Progress:', layout=Layout(height='25px', width='50%'),…"
      ],
      "application/vnd.jupyter.widget-view+json": {
       "version_major": 2,
       "version_minor": 0,
       "model_id": "4e642e67e4a446e8893750a8418dec07"
      }
     },
     "metadata": {},
     "output_type": "display_data"
    }
   ],
   "execution_count": 4
  },
  {
   "metadata": {},
   "cell_type": "markdown",
   "source": "Creating the iceberg table ",
   "id": "f6fe1901189287bb"
  },
  {
   "metadata": {
    "ExecuteTime": {
     "end_time": "2024-07-01T14:49:35.891023Z",
     "start_time": "2024-07-01T14:49:34.512043Z"
    }
   },
   "cell_type": "code",
   "source": [
    "%%sql \n",
    "drop table if exists glue_catalog.playground.demo2"
   ],
   "id": "5d47661cbb512238",
   "outputs": [
    {
     "data": {
      "text/plain": [
       "FloatProgress(value=0.0, bar_style='info', description='Progress:', layout=Layout(height='25px', width='50%'),…"
      ],
      "application/vnd.jupyter.widget-view+json": {
       "version_major": 2,
       "version_minor": 0,
       "model_id": "53807176dd7e410d8eba3b077e97e16a"
      }
     },
     "metadata": {},
     "output_type": "display_data"
    },
    {
     "data": {
      "text/plain": [
       "VBox(children=(HBox(), EncodingWidget(children=(VBox(children=(HTML(value='Encoding:'), Dropdown(description='…"
      ],
      "application/vnd.jupyter.widget-view+json": {
       "version_major": 2,
       "version_minor": 0,
       "model_id": "9479658390f548cfbdd40f0ae03b1601"
      }
     },
     "metadata": {},
     "output_type": "display_data"
    },
    {
     "data": {
      "text/plain": [
       "Output()"
      ],
      "application/vnd.jupyter.widget-view+json": {
       "version_major": 2,
       "version_minor": 0,
       "model_id": "902a687f95e14b42907f2ef41092bc02"
      }
     },
     "metadata": {},
     "output_type": "display_data"
    }
   ],
   "execution_count": 17
  },
  {
   "metadata": {
    "ExecuteTime": {
     "end_time": "2024-07-01T15:47:06.899367Z",
     "start_time": "2024-07-01T15:47:05.495465Z"
    }
   },
   "cell_type": "code",
   "source": [
    "%%sql \n",
    "create table glue_catalog.playground.demo4(\n",
    "    name string,\n",
    "    phone string,\n",
    "    email string,\n",
    "    postalZip long,\n",
    "    number int,\n",
    "    country string,\n",
    "    ingestion_date date\n",
    ")\n",
    "using iceberg \n",
    "PARTITIONED BY (country,year(ingestion_date))\n",
    "Location 's3://mxtdw-audit-gamma/demo_iceberg3/'\n",
    "TBLPROPERTIES ( \n",
    "    'write.metadata.metrics.column.postalZip'='full',\n",
    "    'write.metadata.metrics.column.country'='full',\n",
    "    'write.metadata.metrics.column.ingestion_date'='full'\n",
    ");"
   ],
   "id": "4983957da4774a9e",
   "outputs": [
    {
     "data": {
      "text/plain": [
       "FloatProgress(value=0.0, bar_style='info', description='Progress:', layout=Layout(height='25px', width='50%'),…"
      ],
      "application/vnd.jupyter.widget-view+json": {
       "version_major": 2,
       "version_minor": 0,
       "model_id": "799de7761cb64662b979d31354c141c4"
      }
     },
     "metadata": {},
     "output_type": "display_data"
    },
    {
     "data": {
      "text/plain": [
       "VBox(children=(HBox(), EncodingWidget(children=(VBox(children=(HTML(value='Encoding:'), Dropdown(description='…"
      ],
      "application/vnd.jupyter.widget-view+json": {
       "version_major": 2,
       "version_minor": 0,
       "model_id": "65d10c3f7f184bbcba8e4aac69569b39"
      }
     },
     "metadata": {},
     "output_type": "display_data"
    },
    {
     "data": {
      "text/plain": [
       "Output()"
      ],
      "application/vnd.jupyter.widget-view+json": {
       "version_major": 2,
       "version_minor": 0,
       "model_id": "31f8ab13ee5348f28decb8125cdbd46d"
      }
     },
     "metadata": {},
     "output_type": "display_data"
    }
   ],
   "execution_count": 6
  },
  {
   "metadata": {},
   "cell_type": "markdown",
   "source": [
    "Iceberg Metadata Queries \n",
    "Extended list can be found here - https://iceberg.apache.org/docs/nightly/spark-queries/"
   ],
   "id": "61f3ffc11bd4bb27"
  },
  {
   "metadata": {},
   "cell_type": "markdown",
   "source": "Getting the s3 files ",
   "id": "4f06f0032df2cdb1"
  },
  {
   "metadata": {
    "ExecuteTime": {
     "end_time": "2024-07-01T15:51:27.519805Z",
     "start_time": "2024-07-01T15:51:26.770172Z"
    }
   },
   "cell_type": "code",
   "source": [
    "%%sql \n",
    "select * from glue_catalog.playground.demo4.files;"
   ],
   "id": "81ea2fd7b17bbf00",
   "outputs": [
    {
     "data": {
      "text/plain": [
       "FloatProgress(value=0.0, bar_style='info', description='Progress:', layout=Layout(height='25px', width='50%'),…"
      ],
      "application/vnd.jupyter.widget-view+json": {
       "version_major": 2,
       "version_minor": 0,
       "model_id": "aaa0f6916140431a9c337056437aa0f2"
      }
     },
     "metadata": {},
     "output_type": "display_data"
    },
    {
     "data": {
      "text/plain": [
       "VBox(children=(HBox(), EncodingWidget(children=(VBox(children=(HTML(value='Encoding:'), Dropdown(description='…"
      ],
      "application/vnd.jupyter.widget-view+json": {
       "version_major": 2,
       "version_minor": 0,
       "model_id": "42ba5d3814414609a4e191dc387dc99a"
      }
     },
     "metadata": {},
     "output_type": "display_data"
    },
    {
     "data": {
      "text/plain": [
       "Output()"
      ],
      "application/vnd.jupyter.widget-view+json": {
       "version_major": 2,
       "version_minor": 0,
       "model_id": "3da7a3e470224073b3871174c793db42"
      }
     },
     "metadata": {},
     "output_type": "display_data"
    }
   ],
   "execution_count": 8
  },
  {
   "metadata": {},
   "cell_type": "markdown",
   "source": "Getting the Snapshots",
   "id": "4676619ddcd71ac2"
  },
  {
   "metadata": {
    "ExecuteTime": {
     "end_time": "2024-07-01T15:51:45.977622Z",
     "start_time": "2024-07-01T15:51:45.220035Z"
    }
   },
   "cell_type": "code",
   "source": [
    "%%sql \n",
    "select * from glue_catalog.playground.demo4.snapshots;"
   ],
   "id": "48116bc06d748b5f",
   "outputs": [
    {
     "data": {
      "text/plain": [
       "FloatProgress(value=0.0, bar_style='info', description='Progress:', layout=Layout(height='25px', width='50%'),…"
      ],
      "application/vnd.jupyter.widget-view+json": {
       "version_major": 2,
       "version_minor": 0,
       "model_id": "a0bbeeaa5e9841b487c9ebde50d5df4c"
      }
     },
     "metadata": {},
     "output_type": "display_data"
    },
    {
     "data": {
      "text/plain": [
       "VBox(children=(HBox(), EncodingWidget(children=(VBox(children=(HTML(value='Encoding:'), Dropdown(description='…"
      ],
      "application/vnd.jupyter.widget-view+json": {
       "version_major": 2,
       "version_minor": 0,
       "model_id": "0ab0c33790df4304a2f1e9c56c64c8e8"
      }
     },
     "metadata": {},
     "output_type": "display_data"
    },
    {
     "data": {
      "text/plain": [
       "Output()"
      ],
      "application/vnd.jupyter.widget-view+json": {
       "version_major": 2,
       "version_minor": 0,
       "model_id": "c4cad0c9db9b40f5addf6586ebc08757"
      }
     },
     "metadata": {},
     "output_type": "display_data"
    }
   ],
   "execution_count": 9
  },
  {
   "metadata": {},
   "cell_type": "markdown",
   "source": "Inserting the data ",
   "id": "ec0ac262ed8330f0"
  },
  {
   "metadata": {
    "ExecuteTime": {
     "end_time": "2024-07-01T15:52:01.635254Z",
     "start_time": "2024-07-01T15:51:57.385634Z"
    }
   },
   "cell_type": "code",
   "source": [
    "import pyspark.sql.functions as f\n",
    "df = spark.read.csv(\"s3://mxtdw-audit-gamma/demo_data/data.csv\",header=True,inferSchema=True)\n",
    "df = df.withColumn(\"ingestion_date\",f.current_date())"
   ],
   "id": "1b5e9f5dcb6445bb",
   "outputs": [
    {
     "data": {
      "text/plain": [
       "FloatProgress(value=0.0, bar_style='info', description='Progress:', layout=Layout(height='25px', width='50%'),…"
      ],
      "application/vnd.jupyter.widget-view+json": {
       "version_major": 2,
       "version_minor": 0,
       "model_id": "bc948c8977da431f94a2d503dfdb005a"
      }
     },
     "metadata": {},
     "output_type": "display_data"
    }
   ],
   "execution_count": 10
  },
  {
   "metadata": {
    "ExecuteTime": {
     "end_time": "2024-07-01T15:52:03.233703Z",
     "start_time": "2024-07-01T15:52:02.494642Z"
    }
   },
   "cell_type": "code",
   "source": "df.show()",
   "id": "5302f9ff1f455d46",
   "outputs": [
    {
     "data": {
      "text/plain": [
       "FloatProgress(value=0.0, bar_style='info', description='Progress:', layout=Layout(height='25px', width='50%'),…"
      ],
      "application/vnd.jupyter.widget-view+json": {
       "version_major": 2,
       "version_minor": 0,
       "model_id": "b4e7798f3c43443a9748e54c9bded3f4"
      }
     },
     "metadata": {},
     "output_type": "display_data"
    },
    {
     "name": "stdout",
     "output_type": "stream",
     "text": [
      "+---------------+--------------+--------------------+---------+------+------------------+--------------+\n",
      "|           name|         phone|               email|postalZip|number|           country|ingestion_date|\n",
      "+---------------+--------------+--------------------+---------+------+------------------+--------------+\n",
      "|   Price Savage|(424) 562-4115|varius.ultrices@g...|   586986|     7|             India|    2024-07-01|\n",
      "|   Odette Logan|1-562-786-9778|ultricies.ligula@...|     1061|     8|Russian Federation|    2024-07-01|\n",
      "|Katell Buchanan|(935) 445-9637|magna@protonmail.net|    55526|     9|           Nigeria|    2024-07-01|\n",
      "|    Leigh Young|1-808-725-8983|ultrices.posuere....|     4906|     7|            Poland|    2024-07-01|\n",
      "|  Bianca Sexton|1-383-310-3697|risus.at@outlook.net|   115771|     0|           Vietnam|    2024-07-01|\n",
      "+---------------+--------------+--------------------+---------+------+------------------+--------------+"
     ]
    }
   ],
   "execution_count": 11
  },
  {
   "metadata": {
    "ExecuteTime": {
     "end_time": "2024-07-01T15:53:15.174172Z",
     "start_time": "2024-07-01T15:53:13.167442Z"
    }
   },
   "cell_type": "code",
   "source": "df.writeTo(\"glue_catalog.playground.demo4\").append()",
   "id": "668419bc169b6f8b",
   "outputs": [
    {
     "data": {
      "text/plain": [
       "FloatProgress(value=0.0, bar_style='info', description='Progress:', layout=Layout(height='25px', width='50%'),…"
      ],
      "application/vnd.jupyter.widget-view+json": {
       "version_major": 2,
       "version_minor": 0,
       "model_id": "a579132a275a4b10acdd294418fa41b6"
      }
     },
     "metadata": {},
     "output_type": "display_data"
    }
   ],
   "execution_count": 15
  },
  {
   "metadata": {},
   "cell_type": "markdown",
   "source": "Querying the Iceberg Table ",
   "id": "5e69b39de927d16c"
  },
  {
   "metadata": {
    "ExecuteTime": {
     "end_time": "2024-07-01T15:53:18.212440Z",
     "start_time": "2024-07-01T15:53:16.801002Z"
    }
   },
   "cell_type": "code",
   "source": [
    "%%sql \n",
    "select * from glue_catalog.playground.demo4;"
   ],
   "id": "97cdd69957ae048a",
   "outputs": [
    {
     "data": {
      "text/plain": [
       "FloatProgress(value=0.0, bar_style='info', description='Progress:', layout=Layout(height='25px', width='50%'),…"
      ],
      "application/vnd.jupyter.widget-view+json": {
       "version_major": 2,
       "version_minor": 0,
       "model_id": "1dce6a4bbbcf418eabc8dd7fc63f87de"
      }
     },
     "metadata": {},
     "output_type": "display_data"
    },
    {
     "data": {
      "text/plain": [
       "VBox(children=(HBox(children=(HTML(value='Type:'), Button(description='Table', layout=Layout(width='70px'), st…"
      ],
      "application/vnd.jupyter.widget-view+json": {
       "version_major": 2,
       "version_minor": 0,
       "model_id": "6828b5acac94487eac1ef531c438bd37"
      }
     },
     "metadata": {},
     "output_type": "display_data"
    },
    {
     "data": {
      "text/plain": [
       "Output()"
      ],
      "application/vnd.jupyter.widget-view+json": {
       "version_major": 2,
       "version_minor": 0,
       "model_id": "c6f37f32eed541d087dae4d62c279829"
      }
     },
     "metadata": {},
     "output_type": "display_data"
    }
   ],
   "execution_count": 16
  },
  {
   "metadata": {
    "ExecuteTime": {
     "end_time": "2024-07-01T15:53:26.115911Z",
     "start_time": "2024-07-01T15:53:25.719029Z"
    }
   },
   "cell_type": "code",
   "source": "spark.sql(\"select * from glue_catalog.playground.demo4.metadata_log_entries\").show(truncate=False)",
   "id": "7773d79c4789cc9",
   "outputs": [
    {
     "data": {
      "text/plain": [
       "FloatProgress(value=0.0, bar_style='info', description='Progress:', layout=Layout(height='25px', width='50%'),…"
      ],
      "application/vnd.jupyter.widget-view+json": {
       "version_major": 2,
       "version_minor": 0,
       "model_id": "ccad3a4af88644fb87d3865e6e279e44"
      }
     },
     "metadata": {},
     "output_type": "display_data"
    },
    {
     "name": "stdout",
     "output_type": "stream",
     "text": [
      "+-----------------------+------------------------------------------------------------------------------------------------------+-------------------+----------------+----------------------+\n",
      "|timestamp              |file                                                                                                  |latest_snapshot_id |latest_schema_id|latest_sequence_number|\n",
      "+-----------------------+------------------------------------------------------------------------------------------------------+-------------------+----------------+----------------------+\n",
      "|2024-07-01 15:47:05.973|s3://mxtdw-audit-gamma/demo_iceberg3/metadata/00000-b59e0621-22fe-4121-849f-1375626d8745.metadata.json|null               |null            |null                  |\n",
      "|2024-07-01 15:53:14.481|s3://mxtdw-audit-gamma/demo_iceberg3/metadata/00001-34b51886-b727-4ba6-bd56-277a00b8c83e.metadata.json|2461266357087007226|0               |1                     |\n",
      "+-----------------------+------------------------------------------------------------------------------------------------------+-------------------+----------------+----------------------+"
     ]
    }
   ],
   "execution_count": 17
  },
  {
   "metadata": {
    "ExecuteTime": {
     "end_time": "2024-07-01T15:53:55.626939Z",
     "start_time": "2024-07-01T15:53:54.902316Z"
    }
   },
   "cell_type": "code",
   "source": "spark.sql(\"select * from glue_catalog.playground.demo4.files\").show(truncate=False)",
   "id": "e20205aa8bd7ddbf",
   "outputs": [
    {
     "data": {
      "text/plain": [
       "FloatProgress(value=0.0, bar_style='info', description='Progress:', layout=Layout(height='25px', width='50%'),…"
      ],
      "application/vnd.jupyter.widget-view+json": {
       "version_major": 2,
       "version_minor": 0,
       "model_id": "994d392debed4325a7b0bba29f1d04a6"
      }
     },
     "metadata": {},
     "output_type": "display_data"
    },
    {
     "name": "stdout",
     "output_type": "stream",
     "text": [
      "+-------+---------------------------------------------------------------------------------------------------------------------------------------------------------+-----------+-------+------------------------+------------+------------------+---------------------------------------------------------------+--------------------------------------------------------+--------------------------------------------------------+----------------+------------------------------------------------------------------------------------------------------------------------------+------------------------------------------------------------------------------------------------------------------------------+------------+-------------+------------+-------------+----------------------------------------------------------------------------------------------------------------------------------------------------------------------------------------------------------------------------------------------------------------------------------------------------------------+\n",
      "|content|file_path                                                                                                                                                |file_format|spec_id|partition               |record_count|file_size_in_bytes|column_sizes                                                   |value_counts                                            |null_value_counts                                       |nan_value_counts|lower_bounds                                                                                                                  |upper_bounds                                                                                                                  |key_metadata|split_offsets|equality_ids|sort_order_id|readable_metrics                                                                                                                                                                                                                                                                                                |\n",
      "+-------+---------------------------------------------------------------------------------------------------------------------------------------------------------+-----------+-------+------------------------+------------+------------------+---------------------------------------------------------------+--------------------------------------------------------+--------------------------------------------------------+----------------+------------------------------------------------------------------------------------------------------------------------------+------------------------------------------------------------------------------------------------------------------------------+------------+-------------+------------+-------------+----------------------------------------------------------------------------------------------------------------------------------------------------------------------------------------------------------------------------------------------------------------------------------------------------------------+\n",
      "|0      |s3://mxtdw-audit-gamma/demo_iceberg3/data/country=India/ingestion_date_year=2024/00000-12-1257bbd9-cc78-4721-b3dc-b3d325b2b056-00001.parquet             |PARQUET    |0      |{India, 54}             |1           |2178              |{1 -> 54, 2 -> 56, 3 -> 67, 4 -> 46, 5 -> 42, 6 -> 47, 7 -> 36}|{1 -> 1, 2 -> 1, 3 -> 1, 4 -> 1, 5 -> 1, 6 -> 1, 7 -> 1}|{1 -> 0, 2 -> 0, 3 -> 0, 4 -> 0, 5 -> 0, 6 -> 0, 7 -> 0}|{}              |{1 -> Price Savage, 2 -> (424) 562-4115, 3 -> varius.ultrices@, 4 -> ��\\b\u0000\u0000\u0000\u0000\u0000, 5 -> \\a\u0000\u0000\u0000, 6 -> India, 7 -> �M\u0000\u0000}            |{1 -> Price Savage, 2 -> (424) 562-4115, 3 -> varius.ultricesA, 4 -> ��\\b\u0000\u0000\u0000\u0000\u0000, 5 -> \\a\u0000\u0000\u0000, 6 -> India, 7 -> �M\u0000\u0000}            |null        |[4]          |null        |0            |{{47, 1, 0, null, India, India}, {67, 1, 0, null, varius.ultrices@, varius.ultricesA}, {36, 1, 0, null, 2024-07-01, 2024-07-01}, {54, 1, 0, null, Price Savage, Price Savage}, {42, 1, 0, null, 7, 7}, {56, 1, 0, null, (424) 562-4115, (424) 562-4115}, {46, 1, 0, null, 586986, 586986}}                      |\n",
      "|0      |s3://mxtdw-audit-gamma/demo_iceberg3/data/country=Nigeria/ingestion_date_year=2024/00000-12-1257bbd9-cc78-4721-b3dc-b3d325b2b056-00002.parquet           |PARQUET    |0      |{Nigeria, 54}           |1           |2168              |{1 -> 57, 2 -> 56, 3 -> 61, 4 -> 46, 5 -> 42, 6 -> 49, 7 -> 36}|{1 -> 1, 2 -> 1, 3 -> 1, 4 -> 1, 5 -> 1, 6 -> 1, 7 -> 1}|{1 -> 0, 2 -> 0, 3 -> 0, 4 -> 0, 5 -> 0, 6 -> 0, 7 -> 0}|{}              |{1 -> Katell Buchanan, 2 -> (935) 445-9637, 3 -> magna@protonmail, 4 -> ��\u0000\u0000\u0000\u0000\u0000\u0000, 5 -> \\t\u0000\u0000\u0000, 6 -> Nigeria, 7 -> �M\u0000\u0000}        |{1 -> Katell Buchanan, 2 -> (935) 445-9637, 3 -> magna@protonmaim, 4 -> ��\u0000\u0000\u0000\u0000\u0000\u0000, 5 -> \\t\u0000\u0000\u0000, 6 -> Nigeria, 7 -> �M\u0000\u0000}        |null        |[4]          |null        |0            |{{49, 1, 0, null, Nigeria, Nigeria}, {61, 1, 0, null, magna@protonmail, magna@protonmaim}, {36, 1, 0, null, 2024-07-01, 2024-07-01}, {57, 1, 0, null, Katell Buchanan, Katell Buchanan}, {42, 1, 0, null, 9, 9}, {56, 1, 0, null, (935) 445-9637, (935) 445-9637}, {46, 1, 0, null, 55526, 55526}}              |\n",
      "|0      |s3://mxtdw-audit-gamma/demo_iceberg3/data/country=Poland/ingestion_date_year=2024/00000-12-1257bbd9-cc78-4721-b3dc-b3d325b2b056-00003.parquet            |PARQUET    |0      |{Poland, 54}            |1           |2236              |{1 -> 53, 2 -> 56, 3 -> 76, 4 -> 46, 5 -> 42, 6 -> 48, 7 -> 36}|{1 -> 1, 2 -> 1, 3 -> 1, 4 -> 1, 5 -> 1, 6 -> 1, 7 -> 1}|{1 -> 0, 2 -> 0, 3 -> 0, 4 -> 0, 5 -> 0, 6 -> 0, 7 -> 0}|{}              |{1 -> Leigh Young, 2 -> 1-808-725-8983, 3 -> ultrices.posuere, 4 -> *\u0013\u0000\u0000\u0000\u0000\u0000\u0000, 5 -> \\a\u0000\u0000\u0000, 6 -> Poland, 7 -> �M\u0000\u0000}             |{1 -> Leigh Young, 2 -> 1-808-725-8983, 3 -> ultrices.posuerf, 4 -> *\u0013\u0000\u0000\u0000\u0000\u0000\u0000, 5 -> \\a\u0000\u0000\u0000, 6 -> Poland, 7 -> �M\u0000\u0000}             |null        |[4]          |null        |0            |{{48, 1, 0, null, Poland, Poland}, {76, 1, 0, null, ultrices.posuere, ultrices.posuerf}, {36, 1, 0, null, 2024-07-01, 2024-07-01}, {53, 1, 0, null, Leigh Young, Leigh Young}, {42, 1, 0, null, 7, 7}, {56, 1, 0, null, 1-808-725-8983, 1-808-725-8983}, {46, 1, 0, null, 4906, 4906}}                          |\n",
      "|0      |s3://mxtdw-audit-gamma/demo_iceberg3/data/country=Russian+Federation/ingestion_date_year=2024/00000-12-1257bbd9-cc78-4721-b3dc-b3d325b2b056-00004.parquet|PARQUET    |0      |{Russian Federation, 54}|1           |2276              |{1 -> 53, 2 -> 56, 3 -> 69, 4 -> 46, 5 -> 42, 6 -> 60, 7 -> 36}|{1 -> 1, 2 -> 1, 3 -> 1, 4 -> 1, 5 -> 1, 6 -> 1, 7 -> 1}|{1 -> 0, 2 -> 0, 3 -> 0, 4 -> 0, 5 -> 0, 6 -> 0, 7 -> 0}|{}              |{1 -> Odette Logan, 2 -> 1-562-786-9778, 3 -> ultricies.ligula, 4 -> %\u0004\u0000\u0000\u0000\u0000\u0000\u0000, 5 -> \\b\u0000\u0000\u0000, 6 -> Russian Federation, 7 -> �M\u0000\u0000}|{1 -> Odette Logan, 2 -> 1-562-786-9778, 3 -> ultricies.ligulb, 4 -> %\u0004\u0000\u0000\u0000\u0000\u0000\u0000, 5 -> \\b\u0000\u0000\u0000, 6 -> Russian Federation, 7 -> �M\u0000\u0000}|null        |[4]          |null        |0            |{{60, 1, 0, null, Russian Federation, Russian Federation}, {69, 1, 0, null, ultricies.ligula, ultricies.ligulb}, {36, 1, 0, null, 2024-07-01, 2024-07-01}, {53, 1, 0, null, Odette Logan, Odette Logan}, {42, 1, 0, null, 8, 8}, {56, 1, 0, null, 1-562-786-9778, 1-562-786-9778}, {46, 1, 0, null, 1061, 1061}}|\n",
      "|0      |s3://mxtdw-audit-gamma/demo_iceberg3/data/country=Vietnam/ingestion_date_year=2024/00000-12-1257bbd9-cc78-4721-b3dc-b3d325b2b056-00005.parquet           |PARQUET    |0      |{Vietnam, 54}           |1           |2155              |{1 -> 55, 2 -> 56, 3 -> 62, 4 -> 46, 5 -> 42, 6 -> 49, 7 -> 36}|{1 -> 1, 2 -> 1, 3 -> 1, 4 -> 1, 5 -> 1, 6 -> 1, 7 -> 1}|{1 -> 0, 2 -> 0, 3 -> 0, 4 -> 0, 5 -> 0, 6 -> 0, 7 -> 0}|{}              |{1 -> Bianca Sexton, 2 -> 1-383-310-3697, 3 -> risus.at@outlook, 4 -> ;�\u0001\u0000\u0000\u0000\u0000\u0000, 5 -> \u0000\u0000\u0000\u0000, 6 -> Vietnam, 7 -> �M\u0000\u0000}           |{1 -> Bianca Sexton, 2 -> 1-383-310-3697, 3 -> risus.at@outlool, 4 -> ;�\u0001\u0000\u0000\u0000\u0000\u0000, 5 -> \u0000\u0000\u0000\u0000, 6 -> Vietnam, 7 -> �M\u0000\u0000}           |null        |[4]          |null        |0            |{{49, 1, 0, null, Vietnam, Vietnam}, {62, 1, 0, null, risus.at@outlook, risus.at@outlool}, {36, 1, 0, null, 2024-07-01, 2024-07-01}, {55, 1, 0, null, Bianca Sexton, Bianca Sexton}, {42, 1, 0, null, 0, 0}, {56, 1, 0, null, 1-383-310-3697, 1-383-310-3697}, {46, 1, 0, null, 115771, 115771}}                |\n",
      "+-------+---------------------------------------------------------------------------------------------------------------------------------------------------------+-----------+-------+------------------------+------------+------------------+---------------------------------------------------------------+--------------------------------------------------------+--------------------------------------------------------+----------------+------------------------------------------------------------------------------------------------------------------------------+------------------------------------------------------------------------------------------------------------------------------+------------+-------------+------------+-------------+----------------------------------------------------------------------------------------------------------------------------------------------------------------------------------------------------------------------------------------------------------------------------------------------------------------+"
     ]
    }
   ],
   "execution_count": 18
  },
  {
   "metadata": {
    "ExecuteTime": {
     "end_time": "2024-07-01T15:59:23.631954Z",
     "start_time": "2024-07-01T15:59:15.168052Z"
    }
   },
   "cell_type": "code",
   "source": "spark.sql(\"select * from glue_catalog.playground.demo4.snapshots\").show(truncate=False)",
   "id": "202db1b82cf2be64",
   "outputs": [
    {
     "data": {
      "text/plain": [
       "FloatProgress(value=0.0, bar_style='info', description='Progress:', layout=Layout(height='25px', width='50%'),…"
      ],
      "application/vnd.jupyter.widget-view+json": {
       "version_major": 2,
       "version_minor": 0,
       "model_id": "9813fddc241f46bd8645db151da33f1d"
      }
     },
     "metadata": {},
     "output_type": "display_data"
    },
    {
     "name": "stdout",
     "output_type": "stream",
     "text": [
      "+-----------------------+-------------------+---------+---------+------------------------------------------------------------------------------------------------------------------+-------------------------------------------------------------------------------------------------------------------------------------------------------------------------------------------------------------------------------------------------------------------------------------------------------------+\n",
      "|committed_at           |snapshot_id        |parent_id|operation|manifest_list                                                                                                     |summary                                                                                                                                                                                                                                                                                                      |\n",
      "+-----------------------+-------------------+---------+---------+------------------------------------------------------------------------------------------------------------------+-------------------------------------------------------------------------------------------------------------------------------------------------------------------------------------------------------------------------------------------------------------------------------------------------------------+\n",
      "|2024-07-01 15:53:14.481|2461266357087007226|null     |append   |s3://mxtdw-audit-gamma/demo_iceberg3/metadata/snap-2461266357087007226-1-5604a3fe-6e94-415a-8bfe-d0536927aa24.avro|{spark.app.id -> application_1718585345363_0025, added-data-files -> 5, added-records -> 5, added-files-size -> 11013, changed-partition-count -> 5, total-records -> 5, total-files-size -> 11013, total-data-files -> 5, total-delete-files -> 0, total-position-deletes -> 0, total-equality-deletes -> 0}|\n",
      "+-----------------------+-------------------+---------+---------+------------------------------------------------------------------------------------------------------------------+-------------------------------------------------------------------------------------------------------------------------------------------------------------------------------------------------------------------------------------------------------------------------------------------------------------+"
     ]
    }
   ],
   "execution_count": 20
  },
  {
   "metadata": {
    "ExecuteTime": {
     "end_time": "2024-07-01T15:59:34.012397Z",
     "start_time": "2024-07-01T15:59:32.023773Z"
    }
   },
   "cell_type": "code",
   "source": "spark.read.format(\"avro\").load(\"s3://mxtdw-audit-gamma/demo_iceberg3/metadata/snap-2461266357087007226-1-5604a3fe-6e94-415a-8bfe-d0536927aa24.avro\").show(truncate=False)",
   "id": "cde2b036d1a57572",
   "outputs": [
    {
     "data": {
      "text/plain": [
       "FloatProgress(value=0.0, bar_style='info', description='Progress:', layout=Layout(height='25px', width='50%'),…"
      ],
      "application/vnd.jupyter.widget-view+json": {
       "version_major": 2,
       "version_minor": 0,
       "model_id": "7d807a6d88354a80b6926be07c8c013c"
      }
     },
     "metadata": {},
     "output_type": "display_data"
    },
    {
     "name": "stdout",
     "output_type": "stream",
     "text": [
      "+------------------------------------------------------------------------------------------+---------------+-----------------+-------+---------------+-------------------+-------------------+----------------------+-------------------------+------------------------+----------------+-------------------+------------------+------------------------------------------------------------+\n",
      "|manifest_path                                                                             |manifest_length|partition_spec_id|content|sequence_number|min_sequence_number|added_snapshot_id  |added_data_files_count|existing_data_files_count|deleted_data_files_count|added_rows_count|existing_rows_count|deleted_rows_count|partitions                                                  |\n",
      "+------------------------------------------------------------------------------------------+---------------+-----------------+-------+---------------+-------------------+-------------------+----------------------+-------------------------+------------------------+----------------+-------------------+------------------+------------------------------------------------------------+\n",
      "|s3://mxtdw-audit-gamma/demo_iceberg3/metadata/5604a3fe-6e94-415a-8bfe-d0536927aa24-m0.avro|7922           |0                |0      |1              |1                  |2461266357087007226|5                     |0                        |0                       |5               |0                  |0                 |[{false, false, India, Vietnam}, {false, false, 6\u0000\u0000\u0000, 6\u0000\u0000\u0000}]|\n",
      "+------------------------------------------------------------------------------------------+---------------+-----------------+-------+---------------+-------------------+-------------------+----------------------+-------------------------+------------------------+----------------+-------------------+------------------+------------------------------------------------------------+"
     ]
    }
   ],
   "execution_count": 21
  },
  {
   "metadata": {
    "ExecuteTime": {
     "end_time": "2024-07-01T15:59:53.996701Z",
     "start_time": "2024-07-01T15:59:53.263531Z"
    }
   },
   "cell_type": "code",
   "source": "spark.read.format(\"avro\").load(\"s3://mxtdw-audit-gamma/demo_iceberg3/metadata/5604a3fe-6e94-415a-8bfe-d0536927aa24-m0.avro\").show(truncate=False)",
   "id": "519e03f12b382476",
   "outputs": [
    {
     "data": {
      "text/plain": [
       "FloatProgress(value=0.0, bar_style='info', description='Progress:', layout=Layout(height='25px', width='50%'),…"
      ],
      "application/vnd.jupyter.widget-view+json": {
       "version_major": 2,
       "version_minor": 0,
       "model_id": "6c4b7bac162d499fa5d8af713c701986"
      }
     },
     "metadata": {},
     "output_type": "display_data"
    },
    {
     "name": "stdout",
     "output_type": "stream",
     "text": [
      "+------+-------------------+---------------+--------------------+---------------------------------------------------------------------------------------------------------------------------------------------------------------------------------------------------------------------------------------------------------------------------------------------------------------------------------------------------------------------------------------------------------------------------------------------------------------------------------------------------------------------------------------------------------------------------------------------------------------------------------------------------------------------------------------+\n",
      "|status|snapshot_id        |sequence_number|file_sequence_number|data_file                                                                                                                                                                                                                                                                                                                                                                                                                                                                                                                                                                                                                                                                              |\n",
      "+------+-------------------+---------------+--------------------+---------------------------------------------------------------------------------------------------------------------------------------------------------------------------------------------------------------------------------------------------------------------------------------------------------------------------------------------------------------------------------------------------------------------------------------------------------------------------------------------------------------------------------------------------------------------------------------------------------------------------------------------------------------------------------------+\n",
      "|1     |2461266357087007226|null           |null                |{0, s3://mxtdw-audit-gamma/demo_iceberg3/data/country=India/ingestion_date_year=2024/00000-12-1257bbd9-cc78-4721-b3dc-b3d325b2b056-00001.parquet, PARQUET, {India, 54}, 1, 2178, [{1, 54}, {2, 56}, {3, 67}, {4, 46}, {5, 42}, {6, 47}, {7, 36}], [{1, 1}, {2, 1}, {3, 1}, {4, 1}, {5, 1}, {6, 1}, {7, 1}], [{1, 0}, {2, 0}, {3, 0}, {4, 0}, {5, 0}, {6, 0}, {7, 0}], [], [{1, Price Savage}, {2, (424) 562-4115}, {3, varius.ultrices@}, {4, ��\\b\u0000\u0000\u0000\u0000\u0000}, {5, \\a\u0000\u0000\u0000}, {6, India}, {7, �M\u0000\u0000}], [{1, Price Savage}, {2, (424) 562-4115}, {3, varius.ultricesA}, {4, ��\\b\u0000\u0000\u0000\u0000\u0000}, {5, \\a\u0000\u0000\u0000}, {6, India}, {7, �M\u0000\u0000}], null, [4], null, 0}                                                  |\n",
      "|1     |2461266357087007226|null           |null                |{0, s3://mxtdw-audit-gamma/demo_iceberg3/data/country=Nigeria/ingestion_date_year=2024/00000-12-1257bbd9-cc78-4721-b3dc-b3d325b2b056-00002.parquet, PARQUET, {Nigeria, 54}, 1, 2168, [{1, 57}, {2, 56}, {3, 61}, {4, 46}, {5, 42}, {6, 49}, {7, 36}], [{1, 1}, {2, 1}, {3, 1}, {4, 1}, {5, 1}, {6, 1}, {7, 1}], [{1, 0}, {2, 0}, {3, 0}, {4, 0}, {5, 0}, {6, 0}, {7, 0}], [], [{1, Katell Buchanan}, {2, (935) 445-9637}, {3, magna@protonmail}, {4, ��\u0000\u0000\u0000\u0000\u0000\u0000}, {5, \\t\u0000\u0000\u0000}, {6, Nigeria}, {7, �M\u0000\u0000}], [{1, Katell Buchanan}, {2, (935) 445-9637}, {3, magna@protonmaim}, {4, ��\u0000\u0000\u0000\u0000\u0000\u0000}, {5, \\t\u0000\u0000\u0000}, {6, Nigeria}, {7, �M\u0000\u0000}], null, [4], null, 0}                                      |\n",
      "|1     |2461266357087007226|null           |null                |{0, s3://mxtdw-audit-gamma/demo_iceberg3/data/country=Poland/ingestion_date_year=2024/00000-12-1257bbd9-cc78-4721-b3dc-b3d325b2b056-00003.parquet, PARQUET, {Poland, 54}, 1, 2236, [{1, 53}, {2, 56}, {3, 76}, {4, 46}, {5, 42}, {6, 48}, {7, 36}], [{1, 1}, {2, 1}, {3, 1}, {4, 1}, {5, 1}, {6, 1}, {7, 1}], [{1, 0}, {2, 0}, {3, 0}, {4, 0}, {5, 0}, {6, 0}, {7, 0}], [], [{1, Leigh Young}, {2, 1-808-725-8983}, {3, ultrices.posuere}, {4, *\u0013\u0000\u0000\u0000\u0000\u0000\u0000}, {5, \\a\u0000\u0000\u0000}, {6, Poland}, {7, �M\u0000\u0000}], [{1, Leigh Young}, {2, 1-808-725-8983}, {3, ultrices.posuerf}, {4, *\u0013\u0000\u0000\u0000\u0000\u0000\u0000}, {5, \\a\u0000\u0000\u0000}, {6, Poland}, {7, �M\u0000\u0000}], null, [4], null, 0}                                                  |\n",
      "|1     |2461266357087007226|null           |null                |{0, s3://mxtdw-audit-gamma/demo_iceberg3/data/country=Russian+Federation/ingestion_date_year=2024/00000-12-1257bbd9-cc78-4721-b3dc-b3d325b2b056-00004.parquet, PARQUET, {Russian Federation, 54}, 1, 2276, [{1, 53}, {2, 56}, {3, 69}, {4, 46}, {5, 42}, {6, 60}, {7, 36}], [{1, 1}, {2, 1}, {3, 1}, {4, 1}, {5, 1}, {6, 1}, {7, 1}], [{1, 0}, {2, 0}, {3, 0}, {4, 0}, {5, 0}, {6, 0}, {7, 0}], [], [{1, Odette Logan}, {2, 1-562-786-9778}, {3, ultricies.ligula}, {4, %\u0004\u0000\u0000\u0000\u0000\u0000\u0000}, {5, \\b\u0000\u0000\u0000}, {6, Russian Federation}, {7, �M\u0000\u0000}], [{1, Odette Logan}, {2, 1-562-786-9778}, {3, ultricies.ligulb}, {4, %\u0004\u0000\u0000\u0000\u0000\u0000\u0000}, {5, \\b\u0000\u0000\u0000}, {6, Russian Federation}, {7, �M\u0000\u0000}], null, [4], null, 0}|\n",
      "|1     |2461266357087007226|null           |null                |{0, s3://mxtdw-audit-gamma/demo_iceberg3/data/country=Vietnam/ingestion_date_year=2024/00000-12-1257bbd9-cc78-4721-b3dc-b3d325b2b056-00005.parquet, PARQUET, {Vietnam, 54}, 1, 2155, [{1, 55}, {2, 56}, {3, 62}, {4, 46}, {5, 42}, {6, 49}, {7, 36}], [{1, 1}, {2, 1}, {3, 1}, {4, 1}, {5, 1}, {6, 1}, {7, 1}], [{1, 0}, {2, 0}, {3, 0}, {4, 0}, {5, 0}, {6, 0}, {7, 0}], [], [{1, Bianca Sexton}, {2, 1-383-310-3697}, {3, risus.at@outlook}, {4, ;�\u0001\u0000\u0000\u0000\u0000\u0000}, {5, \u0000\u0000\u0000\u0000}, {6, Vietnam}, {7, �M\u0000\u0000}], [{1, Bianca Sexton}, {2, 1-383-310-3697}, {3, risus.at@outlool}, {4, ;�\u0001\u0000\u0000\u0000\u0000\u0000}, {5, \u0000\u0000\u0000\u0000}, {6, Vietnam}, {7, �M\u0000\u0000}], null, [4], null, 0}                                            |\n",
      "+------+-------------------+---------------+--------------------+---------------------------------------------------------------------------------------------------------------------------------------------------------------------------------------------------------------------------------------------------------------------------------------------------------------------------------------------------------------------------------------------------------------------------------------------------------------------------------------------------------------------------------------------------------------------------------------------------------------------------------------------------------------------------------------+"
     ]
    }
   ],
   "execution_count": 22
  },
  {
   "metadata": {},
   "cell_type": "markdown",
   "source": "Running Update command",
   "id": "4e64bd3e69dff852"
  },
  {
   "metadata": {
    "ExecuteTime": {
     "end_time": "2024-07-01T16:03:16.356941Z",
     "start_time": "2024-07-01T16:03:01.532071Z"
    }
   },
   "cell_type": "code",
   "source": [
    "spark.sql(\"\"\"\n",
    "    update glue_catalog.playground.demo4 set postalZip = 75234 \n",
    "    where number =7;\n",
    "\"\"\")"
   ],
   "id": "8527b48fc0adc9e6",
   "outputs": [
    {
     "data": {
      "text/plain": [
       "FloatProgress(value=0.0, bar_style='info', description='Progress:', layout=Layout(height='25px', width='50%'),…"
      ],
      "application/vnd.jupyter.widget-view+json": {
       "version_major": 2,
       "version_minor": 0,
       "model_id": "ca4cd9ad73774d478a059cea05d93449"
      }
     },
     "metadata": {},
     "output_type": "display_data"
    },
    {
     "name": "stdout",
     "output_type": "stream",
     "text": [
      "DataFrame[]"
     ]
    }
   ],
   "execution_count": 23
  },
  {
   "metadata": {
    "ExecuteTime": {
     "end_time": "2024-07-01T16:03:31.910524Z",
     "start_time": "2024-07-01T16:03:30.562916Z"
    }
   },
   "cell_type": "code",
   "source": "spark.sql(\"select * from glue_catalog.playground.demo4\").show(truncate=False)",
   "id": "797b892f2ff5fca8",
   "outputs": [
    {
     "data": {
      "text/plain": [
       "FloatProgress(value=0.0, bar_style='info', description='Progress:', layout=Layout(height='25px', width='50%'),…"
      ],
      "application/vnd.jupyter.widget-view+json": {
       "version_major": 2,
       "version_minor": 0,
       "model_id": "5d881acb4c384a3ebc996b96f71de6cf"
      }
     },
     "metadata": {},
     "output_type": "display_data"
    },
    {
     "name": "stdout",
     "output_type": "stream",
     "text": [
      "+---------------+--------------+----------------------------------+---------+------+------------------+--------------+\n",
      "|name           |phone         |email                             |postalZip|number|country           |ingestion_date|\n",
      "+---------------+--------------+----------------------------------+---------+------+------------------+--------------+\n",
      "|Katell Buchanan|(935) 445-9637|magna@protonmail.net              |55526    |9     |Nigeria           |2024-07-01    |\n",
      "|Odette Logan   |1-562-786-9778|ultricies.ligula@icloud.net       |1061     |8     |Russian Federation|2024-07-01    |\n",
      "|Bianca Sexton  |1-383-310-3697|risus.at@outlook.net              |115771   |0     |Vietnam           |2024-07-01    |\n",
      "|Price Savage   |(424) 562-4115|varius.ultrices@google.net        |75234    |7     |India             |2024-07-01    |\n",
      "|Leigh Young    |1-808-725-8983|ultrices.posuere.cubilia@yahoo.com|75234    |7     |Poland            |2024-07-01    |\n",
      "+---------------+--------------+----------------------------------+---------+------+------------------+--------------+"
     ]
    }
   ],
   "execution_count": 25
  },
  {
   "metadata": {
    "ExecuteTime": {
     "end_time": "2024-07-01T16:03:48.432093Z",
     "start_time": "2024-07-01T16:03:47.714863Z"
    }
   },
   "cell_type": "code",
   "source": "spark.sql(\"select * from glue_catalog.playground.demo4.snapshots order by committed_at desc\").show(truncate=False)",
   "id": "5481b7fda95aced3",
   "outputs": [
    {
     "data": {
      "text/plain": [
       "FloatProgress(value=0.0, bar_style='info', description='Progress:', layout=Layout(height='25px', width='50%'),…"
      ],
      "application/vnd.jupyter.widget-view+json": {
       "version_major": 2,
       "version_minor": 0,
       "model_id": "c4b77295cc3e41289134438f7dc8e2d3"
      }
     },
     "metadata": {},
     "output_type": "display_data"
    },
    {
     "name": "stdout",
     "output_type": "stream",
     "text": [
      "+-----------------------+-------------------+-------------------+---------+------------------------------------------------------------------------------------------------------------------+---------------------------------------------------------------------------------------------------------------------------------------------------------------------------------------------------------------------------------------------------------------------------------------------------------------------------------------------------------------------------------------+\n",
      "|committed_at           |snapshot_id        |parent_id          |operation|manifest_list                                                                                                     |summary                                                                                                                                                                                                                                                                                                                                                                                |\n",
      "+-----------------------+-------------------+-------------------+---------+------------------------------------------------------------------------------------------------------------------+---------------------------------------------------------------------------------------------------------------------------------------------------------------------------------------------------------------------------------------------------------------------------------------------------------------------------------------------------------------------------------------+\n",
      "|2024-07-01 16:03:13.763|1464511319271994978|2461266357087007226|overwrite|s3://mxtdw-audit-gamma/demo_iceberg3/metadata/snap-1464511319271994978-1-9e0279a7-294b-49c7-8227-d71163c39178.avro|{spark.app.id -> application_1718585345363_0025, added-data-files -> 2, deleted-data-files -> 2, added-records -> 2, deleted-records -> 2, added-files-size -> 4430, removed-files-size -> 4414, changed-partition-count -> 2, total-records -> 5, total-files-size -> 11029, total-data-files -> 5, total-delete-files -> 0, total-position-deletes -> 0, total-equality-deletes -> 0}|\n",
      "|2024-07-01 15:53:14.481|2461266357087007226|null               |append   |s3://mxtdw-audit-gamma/demo_iceberg3/metadata/snap-2461266357087007226-1-5604a3fe-6e94-415a-8bfe-d0536927aa24.avro|{spark.app.id -> application_1718585345363_0025, added-data-files -> 5, added-records -> 5, added-files-size -> 11013, changed-partition-count -> 5, total-records -> 5, total-files-size -> 11013, total-data-files -> 5, total-delete-files -> 0, total-position-deletes -> 0, total-equality-deletes -> 0}                                                                          |\n",
      "+-----------------------+-------------------+-------------------+---------+------------------------------------------------------------------------------------------------------------------+---------------------------------------------------------------------------------------------------------------------------------------------------------------------------------------------------------------------------------------------------------------------------------------------------------------------------------------------------------------------------------------+"
     ]
    }
   ],
   "execution_count": 26
  },
  {
   "metadata": {
    "ExecuteTime": {
     "end_time": "2024-07-01T16:04:01.458264Z",
     "start_time": "2024-07-01T16:04:00.720692Z"
    }
   },
   "cell_type": "code",
   "source": "spark.sql(\"select * from glue_catalog.playground.demo4.metadata_log_entries\").show(truncate=False)",
   "id": "da48b082c3048814",
   "outputs": [
    {
     "data": {
      "text/plain": [
       "FloatProgress(value=0.0, bar_style='info', description='Progress:', layout=Layout(height='25px', width='50%'),…"
      ],
      "application/vnd.jupyter.widget-view+json": {
       "version_major": 2,
       "version_minor": 0,
       "model_id": "1c51c06eb4094d31a626ecfb11cfa77f"
      }
     },
     "metadata": {},
     "output_type": "display_data"
    },
    {
     "name": "stdout",
     "output_type": "stream",
     "text": [
      "+-----------------------+------------------------------------------------------------------------------------------------------+-------------------+----------------+----------------------+\n",
      "|timestamp              |file                                                                                                  |latest_snapshot_id |latest_schema_id|latest_sequence_number|\n",
      "+-----------------------+------------------------------------------------------------------------------------------------------+-------------------+----------------+----------------------+\n",
      "|2024-07-01 15:47:05.973|s3://mxtdw-audit-gamma/demo_iceberg3/metadata/00000-b59e0621-22fe-4121-849f-1375626d8745.metadata.json|null               |null            |null                  |\n",
      "|2024-07-01 15:53:14.481|s3://mxtdw-audit-gamma/demo_iceberg3/metadata/00001-34b51886-b727-4ba6-bd56-277a00b8c83e.metadata.json|2461266357087007226|0               |1                     |\n",
      "|2024-07-01 16:03:13.763|s3://mxtdw-audit-gamma/demo_iceberg3/metadata/00002-375c082b-afe8-495c-8f52-0b0f34a99e63.metadata.json|1464511319271994978|0               |2                     |\n",
      "+-----------------------+------------------------------------------------------------------------------------------------------+-------------------+----------------+----------------------+"
     ]
    }
   ],
   "execution_count": 27
  },
  {
   "metadata": {
    "ExecuteTime": {
     "end_time": "2024-07-01T16:04:18.970162Z",
     "start_time": "2024-07-01T16:04:17.603803Z"
    }
   },
   "cell_type": "code",
   "source": [
    "spark.sql(\"select * from glue_catalog.playground.demo4.files\").show(truncate=False)\n",
    "#if you take any files from this list , it will only give the updated files which contains the updated data "
   ],
   "id": "69668002055c8a5a",
   "outputs": [
    {
     "data": {
      "text/plain": [
       "FloatProgress(value=0.0, bar_style='info', description='Progress:', layout=Layout(height='25px', width='50%'),…"
      ],
      "application/vnd.jupyter.widget-view+json": {
       "version_major": 2,
       "version_minor": 0,
       "model_id": "eec0efb31a0347479a1523925d911ce5"
      }
     },
     "metadata": {},
     "output_type": "display_data"
    },
    {
     "name": "stdout",
     "output_type": "stream",
     "text": [
      "+-------+---------------------------------------------------------------------------------------------------------------------------------------------------------+-----------+-------+------------------------+------------+------------------+---------------------------------------------------------------+--------------------------------------------------------+--------------------------------------------------------+----------------+------------------------------------------------------------------------------------------------------------------------------+------------------------------------------------------------------------------------------------------------------------------+------------+-------------+------------+-------------+----------------------------------------------------------------------------------------------------------------------------------------------------------------------------------------------------------------------------------------------------------------------------------------------------------------+\n",
      "|content|file_path                                                                                                                                                |file_format|spec_id|partition               |record_count|file_size_in_bytes|column_sizes                                                   |value_counts                                            |null_value_counts                                       |nan_value_counts|lower_bounds                                                                                                                  |upper_bounds                                                                                                                  |key_metadata|split_offsets|equality_ids|sort_order_id|readable_metrics                                                                                                                                                                                                                                                                                                |\n",
      "+-------+---------------------------------------------------------------------------------------------------------------------------------------------------------+-----------+-------+------------------------+------------+------------------+---------------------------------------------------------------+--------------------------------------------------------+--------------------------------------------------------+----------------+------------------------------------------------------------------------------------------------------------------------------+------------------------------------------------------------------------------------------------------------------------------+------------+-------------+------------+-------------+----------------------------------------------------------------------------------------------------------------------------------------------------------------------------------------------------------------------------------------------------------------------------------------------------------------+\n",
      "|0      |s3://mxtdw-audit-gamma/demo_iceberg3/data/country=India/ingestion_date_year=2024/00000-23-7656577b-d8f1-4969-8956-9c8b3e44c228-00001.parquet             |PARQUET    |0      |{India, 54}             |1           |2186              |{1 -> 54, 2 -> 56, 3 -> 67, 4 -> 46, 5 -> 42, 6 -> 47, 7 -> 42}|{1 -> 1, 2 -> 1, 3 -> 1, 4 -> 1, 5 -> 1, 6 -> 1, 7 -> 1}|{1 -> 0, 2 -> 0, 3 -> 0, 4 -> 0, 5 -> 0, 6 -> 0, 7 -> 0}|{}              |{1 -> Price Savage, 2 -> (424) 562-4115, 3 -> varius.ultrices@, 4 -> �%\u0001\u0000\u0000\u0000\u0000\u0000, 5 -> \\a\u0000\u0000\u0000, 6 -> India, 7 -> �M\u0000\u0000}             |{1 -> Price Savage, 2 -> (424) 562-4115, 3 -> varius.ultricesA, 4 -> �%\u0001\u0000\u0000\u0000\u0000\u0000, 5 -> \\a\u0000\u0000\u0000, 6 -> India, 7 -> �M\u0000\u0000}             |null        |[4]          |null        |0            |{{47, 1, 0, null, India, India}, {67, 1, 0, null, varius.ultrices@, varius.ultricesA}, {42, 1, 0, null, 2024-07-01, 2024-07-01}, {54, 1, 0, null, Price Savage, Price Savage}, {42, 1, 0, null, 7, 7}, {56, 1, 0, null, (424) 562-4115, (424) 562-4115}, {46, 1, 0, null, 75234, 75234}}                        |\n",
      "|0      |s3://mxtdw-audit-gamma/demo_iceberg3/data/country=Poland/ingestion_date_year=2024/00000-23-7656577b-d8f1-4969-8956-9c8b3e44c228-00002.parquet            |PARQUET    |0      |{Poland, 54}            |1           |2244              |{1 -> 53, 2 -> 56, 3 -> 76, 4 -> 46, 5 -> 42, 6 -> 48, 7 -> 42}|{1 -> 1, 2 -> 1, 3 -> 1, 4 -> 1, 5 -> 1, 6 -> 1, 7 -> 1}|{1 -> 0, 2 -> 0, 3 -> 0, 4 -> 0, 5 -> 0, 6 -> 0, 7 -> 0}|{}              |{1 -> Leigh Young, 2 -> 1-808-725-8983, 3 -> ultrices.posuere, 4 -> �%\u0001\u0000\u0000\u0000\u0000\u0000, 5 -> \\a\u0000\u0000\u0000, 6 -> Poland, 7 -> �M\u0000\u0000}             |{1 -> Leigh Young, 2 -> 1-808-725-8983, 3 -> ultrices.posuerf, 4 -> �%\u0001\u0000\u0000\u0000\u0000\u0000, 5 -> \\a\u0000\u0000\u0000, 6 -> Poland, 7 -> �M\u0000\u0000}             |null        |[4]          |null        |0            |{{48, 1, 0, null, Poland, Poland}, {76, 1, 0, null, ultrices.posuere, ultrices.posuerf}, {42, 1, 0, null, 2024-07-01, 2024-07-01}, {53, 1, 0, null, Leigh Young, Leigh Young}, {42, 1, 0, null, 7, 7}, {56, 1, 0, null, 1-808-725-8983, 1-808-725-8983}, {46, 1, 0, null, 75234, 75234}}                        |\n",
      "|0      |s3://mxtdw-audit-gamma/demo_iceberg3/data/country=Nigeria/ingestion_date_year=2024/00000-12-1257bbd9-cc78-4721-b3dc-b3d325b2b056-00002.parquet           |PARQUET    |0      |{Nigeria, 54}           |1           |2168              |{1 -> 57, 2 -> 56, 3 -> 61, 4 -> 46, 5 -> 42, 6 -> 49, 7 -> 36}|{1 -> 1, 2 -> 1, 3 -> 1, 4 -> 1, 5 -> 1, 6 -> 1, 7 -> 1}|{1 -> 0, 2 -> 0, 3 -> 0, 4 -> 0, 5 -> 0, 6 -> 0, 7 -> 0}|{}              |{1 -> Katell Buchanan, 2 -> (935) 445-9637, 3 -> magna@protonmail, 4 -> ��\u0000\u0000\u0000\u0000\u0000\u0000, 5 -> \\t\u0000\u0000\u0000, 6 -> Nigeria, 7 -> �M\u0000\u0000}        |{1 -> Katell Buchanan, 2 -> (935) 445-9637, 3 -> magna@protonmaim, 4 -> ��\u0000\u0000\u0000\u0000\u0000\u0000, 5 -> \\t\u0000\u0000\u0000, 6 -> Nigeria, 7 -> �M\u0000\u0000}        |null        |[4]          |null        |0            |{{49, 1, 0, null, Nigeria, Nigeria}, {61, 1, 0, null, magna@protonmail, magna@protonmaim}, {36, 1, 0, null, 2024-07-01, 2024-07-01}, {57, 1, 0, null, Katell Buchanan, Katell Buchanan}, {42, 1, 0, null, 9, 9}, {56, 1, 0, null, (935) 445-9637, (935) 445-9637}, {46, 1, 0, null, 55526, 55526}}              |\n",
      "|0      |s3://mxtdw-audit-gamma/demo_iceberg3/data/country=Russian+Federation/ingestion_date_year=2024/00000-12-1257bbd9-cc78-4721-b3dc-b3d325b2b056-00004.parquet|PARQUET    |0      |{Russian Federation, 54}|1           |2276              |{1 -> 53, 2 -> 56, 3 -> 69, 4 -> 46, 5 -> 42, 6 -> 60, 7 -> 36}|{1 -> 1, 2 -> 1, 3 -> 1, 4 -> 1, 5 -> 1, 6 -> 1, 7 -> 1}|{1 -> 0, 2 -> 0, 3 -> 0, 4 -> 0, 5 -> 0, 6 -> 0, 7 -> 0}|{}              |{1 -> Odette Logan, 2 -> 1-562-786-9778, 3 -> ultricies.ligula, 4 -> %\u0004\u0000\u0000\u0000\u0000\u0000\u0000, 5 -> \\b\u0000\u0000\u0000, 6 -> Russian Federation, 7 -> �M\u0000\u0000}|{1 -> Odette Logan, 2 -> 1-562-786-9778, 3 -> ultricies.ligulb, 4 -> %\u0004\u0000\u0000\u0000\u0000\u0000\u0000, 5 -> \\b\u0000\u0000\u0000, 6 -> Russian Federation, 7 -> �M\u0000\u0000}|null        |[4]          |null        |0            |{{60, 1, 0, null, Russian Federation, Russian Federation}, {69, 1, 0, null, ultricies.ligula, ultricies.ligulb}, {36, 1, 0, null, 2024-07-01, 2024-07-01}, {53, 1, 0, null, Odette Logan, Odette Logan}, {42, 1, 0, null, 8, 8}, {56, 1, 0, null, 1-562-786-9778, 1-562-786-9778}, {46, 1, 0, null, 1061, 1061}}|\n",
      "|0      |s3://mxtdw-audit-gamma/demo_iceberg3/data/country=Vietnam/ingestion_date_year=2024/00000-12-1257bbd9-cc78-4721-b3dc-b3d325b2b056-00005.parquet           |PARQUET    |0      |{Vietnam, 54}           |1           |2155              |{1 -> 55, 2 -> 56, 3 -> 62, 4 -> 46, 5 -> 42, 6 -> 49, 7 -> 36}|{1 -> 1, 2 -> 1, 3 -> 1, 4 -> 1, 5 -> 1, 6 -> 1, 7 -> 1}|{1 -> 0, 2 -> 0, 3 -> 0, 4 -> 0, 5 -> 0, 6 -> 0, 7 -> 0}|{}              |{1 -> Bianca Sexton, 2 -> 1-383-310-3697, 3 -> risus.at@outlook, 4 -> ;�\u0001\u0000\u0000\u0000\u0000\u0000, 5 -> \u0000\u0000\u0000\u0000, 6 -> Vietnam, 7 -> �M\u0000\u0000}           |{1 -> Bianca Sexton, 2 -> 1-383-310-3697, 3 -> risus.at@outlool, 4 -> ;�\u0001\u0000\u0000\u0000\u0000\u0000, 5 -> \u0000\u0000\u0000\u0000, 6 -> Vietnam, 7 -> �M\u0000\u0000}           |null        |[4]          |null        |0            |{{49, 1, 0, null, Vietnam, Vietnam}, {62, 1, 0, null, risus.at@outlook, risus.at@outlool}, {36, 1, 0, null, 2024-07-01, 2024-07-01}, {55, 1, 0, null, Bianca Sexton, Bianca Sexton}, {42, 1, 0, null, 0, 0}, {56, 1, 0, null, 1-383-310-3697, 1-383-310-3697}, {46, 1, 0, null, 115771, 115771}}                |\n",
      "+-------+---------------------------------------------------------------------------------------------------------------------------------------------------------+-----------+-------+------------------------+------------+------------------+---------------------------------------------------------------+--------------------------------------------------------+--------------------------------------------------------+----------------+------------------------------------------------------------------------------------------------------------------------------+------------------------------------------------------------------------------------------------------------------------------+------------+-------------+------------+-------------+----------------------------------------------------------------------------------------------------------------------------------------------------------------------------------------------------------------------------------------------------------------------------------------------------------------+"
     ]
    }
   ],
   "execution_count": 28
  },
  {
   "metadata": {
    "ExecuteTime": {
     "end_time": "2024-07-01T16:05:53.715034Z",
     "start_time": "2024-07-01T16:05:52.353082Z"
    }
   },
   "cell_type": "code",
   "source": "spark.read.parquet(\"s3://mxtdw-audit-gamma/demo_iceberg3/data/country=India/ingestion_date_year=2024/00000-23-7656577b-d8f1-4969-8956-9c8b3e44c228-00001.parquet\").show(truncate=False)",
   "id": "414931211360b46d",
   "outputs": [
    {
     "data": {
      "text/plain": [
       "FloatProgress(value=0.0, bar_style='info', description='Progress:', layout=Layout(height='25px', width='50%'),…"
      ],
      "application/vnd.jupyter.widget-view+json": {
       "version_major": 2,
       "version_minor": 0,
       "model_id": "8d6f44c52476434b8b4627dd62445a75"
      }
     },
     "metadata": {},
     "output_type": "display_data"
    },
    {
     "name": "stdout",
     "output_type": "stream",
     "text": [
      "+------------+--------------+--------------------------+---------+------+-------+--------------+\n",
      "|name        |phone         |email                     |postalZip|number|country|ingestion_date|\n",
      "+------------+--------------+--------------------------+---------+------+-------+--------------+\n",
      "|Price Savage|(424) 562-4115|varius.ultrices@google.net|75234    |7     |India  |2024-07-01    |\n",
      "+------------+--------------+--------------------------+---------+------+-------+--------------+"
     ]
    }
   ],
   "execution_count": 31
  },
  {
   "metadata": {},
   "cell_type": "markdown",
   "source": "## Reading Snapshots",
   "id": "f4cb2ea7bceaee06"
  },
  {
   "metadata": {
    "ExecuteTime": {
     "end_time": "2024-07-01T16:07:23.667785Z",
     "start_time": "2024-07-01T16:07:17.308519Z"
    }
   },
   "cell_type": "code",
   "source": "spark.sql(\"select * from glue_catalog.playground.demo4.snapshots\").show()",
   "id": "5dfe9c95a170b337",
   "outputs": [
    {
     "data": {
      "text/plain": [
       "FloatProgress(value=0.0, bar_style='info', description='Progress:', layout=Layout(height='25px', width='50%'),…"
      ],
      "application/vnd.jupyter.widget-view+json": {
       "version_major": 2,
       "version_minor": 0,
       "model_id": "0ea90d6e4ba9428ab0640900a9408427"
      }
     },
     "metadata": {},
     "output_type": "display_data"
    },
    {
     "name": "stdout",
     "output_type": "stream",
     "text": [
      "+--------------------+-------------------+-------------------+---------+--------------------+--------------------+\n",
      "|        committed_at|        snapshot_id|          parent_id|operation|       manifest_list|             summary|\n",
      "+--------------------+-------------------+-------------------+---------+--------------------+--------------------+\n",
      "|2024-07-01 15:53:...|2461266357087007226|               null|   append|s3://mxtdw-audit-...|{spark.app.id -> ...|\n",
      "|2024-07-01 16:03:...|1464511319271994978|2461266357087007226|overwrite|s3://mxtdw-audit-...|{spark.app.id -> ...|\n",
      "+--------------------+-------------------+-------------------+---------+--------------------+--------------------+"
     ]
    }
   ],
   "execution_count": 33
  },
  {
   "metadata": {
    "ExecuteTime": {
     "end_time": "2024-07-01T16:08:01.436654Z",
     "start_time": "2024-07-01T16:08:00.082646Z"
    }
   },
   "cell_type": "code",
   "source": "spark.sql(\"select * from glue_catalog.playground.demo4 version as of 2461266357087007226\").show()",
   "id": "bf41681b1cfbbc84",
   "outputs": [
    {
     "data": {
      "text/plain": [
       "FloatProgress(value=0.0, bar_style='info', description='Progress:', layout=Layout(height='25px', width='50%'),…"
      ],
      "application/vnd.jupyter.widget-view+json": {
       "version_major": 2,
       "version_minor": 0,
       "model_id": "5a7d7a87a9cf40098a4832fe57873267"
      }
     },
     "metadata": {},
     "output_type": "display_data"
    },
    {
     "name": "stdout",
     "output_type": "stream",
     "text": [
      "+---------------+--------------+--------------------+---------+------+------------------+--------------+\n",
      "|           name|         phone|               email|postalZip|number|           country|ingestion_date|\n",
      "+---------------+--------------+--------------------+---------+------+------------------+--------------+\n",
      "|   Price Savage|(424) 562-4115|varius.ultrices@g...|   586986|     7|             India|    2024-07-01|\n",
      "|Katell Buchanan|(935) 445-9637|magna@protonmail.net|    55526|     9|           Nigeria|    2024-07-01|\n",
      "|    Leigh Young|1-808-725-8983|ultrices.posuere....|     4906|     7|            Poland|    2024-07-01|\n",
      "|   Odette Logan|1-562-786-9778|ultricies.ligula@...|     1061|     8|Russian Federation|    2024-07-01|\n",
      "|  Bianca Sexton|1-383-310-3697|risus.at@outlook.net|   115771|     0|           Vietnam|    2024-07-01|\n",
      "+---------------+--------------+--------------------+---------+------+------------------+--------------+"
     ]
    }
   ],
   "execution_count": 35
  },
  {
   "metadata": {
    "ExecuteTime": {
     "end_time": "2024-06-22T22:24:34.520970Z",
     "start_time": "2024-06-22T22:24:32.849692Z"
    }
   },
   "cell_type": "code",
   "source": "spark.sql(\"select * from glue_catalog.playground.demo2 version as of 4680088034666527875\").show()",
   "id": "430b0120c3e967b3",
   "outputs": [
    {
     "data": {
      "text/plain": [
       "FloatProgress(value=0.0, bar_style='info', description='Progress:', layout=Layout(height='25px', width='50%'),…"
      ],
      "application/vnd.jupyter.widget-view+json": {
       "version_major": 2,
       "version_minor": 0,
       "model_id": "26cb584ff4e34f94880d6c8f1239dd82"
      }
     },
     "metadata": {},
     "output_type": "display_data"
    },
    {
     "name": "stdout",
     "output_type": "stream",
     "text": [
      "+---------------+--------------+--------------------+---------+------+------------------+--------------+\n",
      "|           name|         phone|               email|postalZip|number|           country|ingestion_date|\n",
      "+---------------+--------------+--------------------+---------+------+------------------+--------------+\n",
      "|Katell Buchanan|(935) 445-9637|magna@protonmail.net|    55526|     9|           Nigeria|    2024-06-22|\n",
      "|   Odette Logan|1-562-786-9778|ultricies.ligula@...|     1061|     8|Russian Federation|    2024-06-22|\n",
      "|  Bianca Sexton|1-383-310-3697|risus.at@outlook.net|   115771|     0|           Vietnam|    2024-06-22|\n",
      "|   Price Savage|(424) 562-4115|varius.ultrices@g...|    75234|     7|             India|    2024-06-22|\n",
      "|    Leigh Young|1-808-725-8983|ultrices.posuere....|    75234|     7|            Poland|    2024-06-22|\n",
      "+---------------+--------------+--------------------+---------+------+------------------+--------------+"
     ]
    }
   ],
   "execution_count": 58
  },
  {
   "metadata": {},
   "cell_type": "markdown",
   "source": "## CDC of tables , which can be used to stream the events ",
   "id": "fb70b59fcd88d367"
  },
  {
   "metadata": {},
   "cell_type": "markdown",
   "source": "#### Based on call columns ",
   "id": "3938512dda4c1fe3"
  },
  {
   "metadata": {
    "jupyter": {
     "is_executing": true
    },
    "ExecuteTime": {
     "start_time": "2024-07-01T16:10:14.217373Z"
    }
   },
   "cell_type": "code",
   "source": [
    "%%sql\n",
    "CALL glue_catalog.system.create_changelog_view(\n",
    "  table => 'playground.demo4',\n",
    "  options => map('start-snapshot-id','2461266357087007226','end-snapshot-id', '1464511319271994978'),\n",
    "  changelog_view => 'change_load2'\n",
    ")"
   ],
   "id": "65e218b541ca22b7",
   "outputs": [
    {
     "data": {
      "text/plain": [
       "FloatProgress(value=0.0, bar_style='info', description='Progress:', layout=Layout(height='25px', width='50%'),…"
      ],
      "application/vnd.jupyter.widget-view+json": {
       "version_major": 2,
       "version_minor": 0,
       "model_id": "88237a08850d46449cd679c09c343d0d"
      }
     },
     "metadata": {},
     "output_type": "display_data"
    },
    {
     "data": {
      "text/plain": [
       "VBox(children=(HBox(children=(HTML(value='Type:'), Button(description='Table', layout=Layout(width='70px'), st…"
      ],
      "application/vnd.jupyter.widget-view+json": {
       "version_major": 2,
       "version_minor": 0,
       "model_id": "be7d53bf05da41b6aa505f7a392de359"
      }
     },
     "metadata": {},
     "output_type": "display_data"
    },
    {
     "data": {
      "text/plain": [
       "Output()"
      ],
      "application/vnd.jupyter.widget-view+json": {
       "version_major": 2,
       "version_minor": 0,
       "model_id": "4c56cbf49228463fa117ec656ca7a0a4"
      }
     },
     "metadata": {},
     "output_type": "display_data"
    }
   ],
   "execution_count": null
  },
  {
   "metadata": {
    "ExecuteTime": {
     "end_time": "2024-07-01T16:10:44.103873Z",
     "start_time": "2024-07-01T16:10:37.735737Z"
    }
   },
   "cell_type": "code",
   "source": "spark.sql(\"SELECT * FROM change_load2 order by number desc , _change_type desc , country desc\").show()",
   "id": "3701dc4fa98ed311",
   "outputs": [
    {
     "data": {
      "text/plain": [
       "FloatProgress(value=0.0, bar_style='info', description='Progress:', layout=Layout(height='25px', width='50%'),…"
      ],
      "application/vnd.jupyter.widget-view+json": {
       "version_major": 2,
       "version_minor": 0,
       "model_id": "50228aefa8734d6eb96eb2827d05fad4"
      }
     },
     "metadata": {},
     "output_type": "display_data"
    },
    {
     "name": "stdout",
     "output_type": "stream",
     "text": [
      "+------------+--------------+--------------------+---------+------+-------+--------------+------------+---------------+-------------------+\n",
      "|        name|         phone|               email|postalZip|number|country|ingestion_date|_change_type|_change_ordinal|_commit_snapshot_id|\n",
      "+------------+--------------+--------------------+---------+------+-------+--------------+------------+---------------+-------------------+\n",
      "| Leigh Young|1-808-725-8983|ultrices.posuere....|    75234|     7| Poland|    2024-07-01|      INSERT|              0|1464511319271994978|\n",
      "|Price Savage|(424) 562-4115|varius.ultrices@g...|    75234|     7|  India|    2024-07-01|      INSERT|              0|1464511319271994978|\n",
      "| Leigh Young|1-808-725-8983|ultrices.posuere....|     4906|     7| Poland|    2024-07-01|      DELETE|              0|1464511319271994978|\n",
      "|Price Savage|(424) 562-4115|varius.ultrices@g...|   586986|     7|  India|    2024-07-01|      DELETE|              0|1464511319271994978|\n",
      "+------------+--------------+--------------------+---------+------+-------+--------------+------------+---------------+-------------------+"
     ]
    }
   ],
   "execution_count": 37
  },
  {
   "metadata": {},
   "cell_type": "code",
   "outputs": [],
   "execution_count": null,
   "source": "",
   "id": "b5558966fd4ee9f1"
  }
 ],
 "metadata": {
  "kernelspec": {
   "display_name": "PySpark",
   "language": "python",
   "name": "pysparkkernel"
  },
  "language_info": {
   "codemirror_mode": {
    "name": "ipython",
    "version": 2
   },
   "file_extension": ".py",
   "mimetype": "text/x-python",
   "name": "python",
   "nbconvert_exporter": "python",
   "pygments_lexer": "ipython2",
   "version": "2.7.6"
  }
 },
 "nbformat": 4,
 "nbformat_minor": 5
}
