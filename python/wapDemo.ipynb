{
 "cells": [
  {
   "metadata": {},
   "cell_type": "markdown",
   "source": [
    "# Write Audit Publish\n",
    "\n",
    "Write-Audit-Publish (WAP) is one of several key design patterns in data engineering that emphasize data quality and integrity, especially within data orchestration workflows.\n",
    "\n",
    "\n",
    "Writing data to a stage layer before the data hits the production layer . \n",
    "\n",
    "Auditing the data to identify and rectify data quality issues . \n",
    "\n",
    "Publishing Data to production \n"
   ],
   "id": "2293e3f7ecec5018"
  },
  {
   "metadata": {},
   "cell_type": "markdown",
   "source": [
    "## Using Iceberg To Achieve WAP \n",
    "\n",
    "Before the inception of Project Nessie (https://projectnessie.org/), the implementation of Write-Ahead Protocol (WAP) typically necessitated two stages of data copies, thereby significantly increasing the data footprint and associated costs. However, following the integration of the Iceberg team with Project Nessie and the introduction of Git-like functionalities at the data layer starting from version 1.2.0, WAP can now be implemented without the need for any data replication. \n",
    "\n",
    "This demo will cover how can we use Iceberg to implement WAP based logic's without data replication . "
   ],
   "id": "87effaebfa18db8c"
  },
  {
   "metadata": {
    "ExecuteTime": {
     "end_time": "2024-07-11T16:09:30.198529Z",
     "start_time": "2024-07-11T16:09:01.359081Z"
    }
   },
   "cell_type": "code",
   "source": [
    "%%configure -f\n",
    "{\n",
    "\"conf\":{\n",
    "    \"spark.sql.extensions\":\"org.apache.iceberg.spark.extensions.IcebergSparkSessionExtensions\"\n",
    "    },\n",
    "    \"jars\":[\n",
    "        \"s3://mxtdw-audit-gamma/jars/iceberg-spark3-runtime.jar\"\n",
    "    ]\n",
    "}"
   ],
   "id": "6044d00a0c54008",
   "outputs": [
    {
     "name": "stdout",
     "output_type": "stream",
     "text": [
      "Starting Spark application\n"
     ]
    },
    {
     "data": {
      "text/plain": [
       "<IPython.core.display.HTML object>"
      ],
      "text/html": [
       "<table>\n",
       "<tr><th>ID</th><th>YARN Application ID</th><th>Kind</th><th>State</th><th>Spark UI</th><th>Driver log</th><th>User</th><th>Current session?</th></tr><tr><td>2</td><td>application_1720710304377_0003</td><td>pyspark</td><td>idle</td><td><a target=\"_blank\" href=\"http://ip-10-0-24-202.ec2.internal:20888/proxy/application_1720710304377_0003/\">Link</a></td><td><a target=\"_blank\" href=\"http://ip-10-0-9-163.ec2.internal:8042/node/containerlogs/container_1720710304377_0003_01_000001/livy\">Link</a></td><td>None</td><td>✔</td></tr></table>"
      ]
     },
     "metadata": {},
     "output_type": "display_data"
    },
    {
     "data": {
      "text/plain": [
       "FloatProgress(value=0.0, bar_style='info', description='Progress:', layout=Layout(height='25px', width='50%'),…"
      ],
      "application/vnd.jupyter.widget-view+json": {
       "version_major": 2,
       "version_minor": 0,
       "model_id": "ebfc7011b4d441fe95064d3fa5dd478b"
      }
     },
     "metadata": {},
     "output_type": "display_data"
    },
    {
     "name": "stdout",
     "output_type": "stream",
     "text": [
      "SparkSession available as 'spark'.\n"
     ]
    },
    {
     "data": {
      "text/plain": [
       "<IPython.core.display.HTML object>"
      ],
      "text/html": [
       "Current session configs: <tt>{'conf': {'spark.sql.catalog.spark_catalog.type': 'hive', 'spark.sql.extensions': 'org.apache.iceberg.spark.extensions.IcebergSparkSessionExtensions'}, 'jars': ['s3://mxtdw-audit-gamma/jars/iceberg-spark3-runtime.jar'], 'kind': 'pyspark'}</tt><br>"
      ]
     },
     "metadata": {},
     "output_type": "display_data"
    },
    {
     "data": {
      "text/plain": [
       "<IPython.core.display.HTML object>"
      ],
      "text/html": [
       "<table>\n",
       "<tr><th>ID</th><th>YARN Application ID</th><th>Kind</th><th>State</th><th>Spark UI</th><th>Driver log</th><th>User</th><th>Current session?</th></tr><tr><td>0</td><td>application_1720710304377_0001</td><td>pyspark</td><td>idle</td><td><a target=\"_blank\" href=\"http://ip-10-0-24-202.ec2.internal:20888/proxy/application_1720710304377_0001/\">Link</a></td><td><a target=\"_blank\" href=\"http://ip-10-0-9-163.ec2.internal:8042/node/containerlogs/container_1720710304377_0001_01_000001/livy\">Link</a></td><td>None</td><td></td></tr><tr><td>2</td><td>application_1720710304377_0003</td><td>pyspark</td><td>idle</td><td><a target=\"_blank\" href=\"http://ip-10-0-24-202.ec2.internal:20888/proxy/application_1720710304377_0003/\">Link</a></td><td><a target=\"_blank\" href=\"http://ip-10-0-9-163.ec2.internal:8042/node/containerlogs/container_1720710304377_0003_01_000001/livy\">Link</a></td><td>None</td><td>✔</td></tr></table>"
      ]
     },
     "metadata": {},
     "output_type": "display_data"
    }
   ],
   "execution_count": 1
  },
  {
   "metadata": {
    "ExecuteTime": {
     "end_time": "2024-07-11T16:09:30.944339Z",
     "start_time": "2024-07-11T16:09:30.204045Z"
    }
   },
   "cell_type": "code",
   "source": "%%info",
   "id": "67cb043507326f82",
   "outputs": [
    {
     "data": {
      "text/plain": [
       "<IPython.core.display.HTML object>"
      ],
      "text/html": [
       "Current session configs: <tt>{'conf': {'spark.sql.catalog.spark_catalog.type': 'hive', 'spark.sql.extensions': 'org.apache.iceberg.spark.extensions.IcebergSparkSessionExtensions'}, 'jars': ['s3://mxtdw-audit-gamma/jars/iceberg-spark3-runtime.jar'], 'kind': 'pyspark'}</tt><br>"
      ]
     },
     "metadata": {},
     "output_type": "display_data"
    },
    {
     "data": {
      "text/plain": [
       "<IPython.core.display.HTML object>"
      ],
      "text/html": [
       "<table>\n",
       "<tr><th>ID</th><th>YARN Application ID</th><th>Kind</th><th>State</th><th>Spark UI</th><th>Driver log</th><th>User</th><th>Current session?</th></tr><tr><td>0</td><td>application_1720710304377_0001</td><td>pyspark</td><td>idle</td><td><a target=\"_blank\" href=\"http://ip-10-0-24-202.ec2.internal:20888/proxy/application_1720710304377_0001/\">Link</a></td><td><a target=\"_blank\" href=\"http://ip-10-0-9-163.ec2.internal:8042/node/containerlogs/container_1720710304377_0001_01_000001/livy\">Link</a></td><td>None</td><td></td></tr><tr><td>2</td><td>application_1720710304377_0003</td><td>pyspark</td><td>idle</td><td><a target=\"_blank\" href=\"http://ip-10-0-24-202.ec2.internal:20888/proxy/application_1720710304377_0003/\">Link</a></td><td><a target=\"_blank\" href=\"http://ip-10-0-9-163.ec2.internal:8042/node/containerlogs/container_1720710304377_0003_01_000001/livy\">Link</a></td><td>None</td><td>✔</td></tr></table>"
      ]
     },
     "metadata": {},
     "output_type": "display_data"
    }
   ],
   "execution_count": 2
  },
  {
   "metadata": {
    "ExecuteTime": {
     "end_time": "2024-07-11T16:09:31.163470Z",
     "start_time": "2024-07-11T16:09:30.948154Z"
    }
   },
   "cell_type": "code",
   "source": [
    "from pyspark.sql import SparkSession\n",
    "catalog_name = \"glue_catalog\"\n",
    "bucket_name = \"mxtdw-audit-gamma\"\n",
    "bucket_prefix = \"mxtdw_audit_table/\"\n",
    "database_name = \"playground\"\n",
    "warehouse_path = f\"s3://{bucket_name}/{bucket_prefix}\"\n",
    "spark = SparkSession.builder \\\n",
    "    .config(f\"spark.sql.catalog.{catalog_name}\", \"org.apache.iceberg.spark.SparkCatalog\") \\\n",
    "    .config(f\"spark.sql.catalog.{catalog_name}.warehouse\", f\"{warehouse_path}\") \\\n",
    "    .config(f\"spark.sql.catalog.{catalog_name}.catalog-impl\", \"org.apache.iceberg.aws.glue.GlueCatalog\") \\\n",
    "    .config(f\"spark.sql.catalog.{catalog_name}.io-impl\", \"org.apache.iceberg.aws.s3.S3FileIO\") \\\n",
    "    .config(\"spark.sql.extensions\",\"org.apache.iceberg.spark.extensions.IcebergSparkSessionExtensions\") \\\n",
    "    .getOrCreate()"
   ],
   "id": "a333a600ca079923",
   "outputs": [
    {
     "data": {
      "text/plain": [
       "FloatProgress(value=0.0, bar_style='info', description='Progress:', layout=Layout(height='25px', width='50%'),…"
      ],
      "application/vnd.jupyter.widget-view+json": {
       "version_major": 2,
       "version_minor": 0,
       "model_id": "232423b1e98d49a1b58c84bc8a9ed942"
      }
     },
     "metadata": {},
     "output_type": "display_data"
    }
   ],
   "execution_count": 3
  },
  {
   "metadata": {
    "ExecuteTime": {
     "end_time": "2024-07-11T16:09:38.402123Z",
     "start_time": "2024-07-11T16:09:34.593751Z"
    }
   },
   "cell_type": "code",
   "source": [
    "%%sql\n",
    "drop table  if exists glue_catalog.playground.wap_demo2;"
   ],
   "id": "8aebfd7557a9741e",
   "outputs": [
    {
     "data": {
      "text/plain": [
       "FloatProgress(value=0.0, bar_style='info', description='Progress:', layout=Layout(height='25px', width='50%'),…"
      ],
      "application/vnd.jupyter.widget-view+json": {
       "version_major": 2,
       "version_minor": 0,
       "model_id": "1bfc43df1f88436193592e71a5c773bd"
      }
     },
     "metadata": {},
     "output_type": "display_data"
    },
    {
     "data": {
      "text/plain": [
       "VBox(children=(HBox(), EncodingWidget(children=(VBox(children=(HTML(value='Encoding:'), Dropdown(description='…"
      ],
      "application/vnd.jupyter.widget-view+json": {
       "version_major": 2,
       "version_minor": 0,
       "model_id": "7aaf4fd77e3f473584e77e0ffae8adfe"
      }
     },
     "metadata": {},
     "output_type": "display_data"
    },
    {
     "data": {
      "text/plain": [
       "Output()"
      ],
      "application/vnd.jupyter.widget-view+json": {
       "version_major": 2,
       "version_minor": 0,
       "model_id": "511518b6e99048fe948dc3c17f047592"
      }
     },
     "metadata": {},
     "output_type": "display_data"
    }
   ],
   "execution_count": 4
  },
  {
   "metadata": {
    "ExecuteTime": {
     "end_time": "2024-07-11T16:09:50.659647Z",
     "start_time": "2024-07-11T16:09:49.511669Z"
    }
   },
   "cell_type": "code",
   "source": [
    "%%sql\n",
    "create table glue_catalog.playground.wap_demo3(\n",
    "    name string,\n",
    "    phone long,\n",
    "    email string,\n",
    "    postalZip long,\n",
    "    number int,\n",
    "    country string,\n",
    "    ingestion_date date\n",
    ")\n",
    "using iceberg \n",
    "PARTITIONED BY (country,year(ingestion_date))\n",
    "Location 's3://mxtdw-audit-gamma/demo_iceberg5/'\n",
    "TBLPROPERTIES ( \n",
    "    'write.metadata.metrics.column.postalZip'='full',\n",
    "    'write.metadata.metrics.column.country'='full',\n",
    "    'write.metadata.metrics.column.ingestion_date'='full'\n",
    ");"
   ],
   "id": "87424a009ef1d9ca",
   "outputs": [
    {
     "data": {
      "text/plain": [
       "FloatProgress(value=0.0, bar_style='info', description='Progress:', layout=Layout(height='25px', width='50%'),…"
      ],
      "application/vnd.jupyter.widget-view+json": {
       "version_major": 2,
       "version_minor": 0,
       "model_id": "1417b0aeafd24af599e61da364a60698"
      }
     },
     "metadata": {},
     "output_type": "display_data"
    },
    {
     "data": {
      "text/plain": [
       "VBox(children=(HBox(), EncodingWidget(children=(VBox(children=(HTML(value='Encoding:'), Dropdown(description='…"
      ],
      "application/vnd.jupyter.widget-view+json": {
       "version_major": 2,
       "version_minor": 0,
       "model_id": "80f7c75869ee4e2bab3dd2b82cc1867e"
      }
     },
     "metadata": {},
     "output_type": "display_data"
    },
    {
     "data": {
      "text/plain": [
       "Output()"
      ],
      "application/vnd.jupyter.widget-view+json": {
       "version_major": 2,
       "version_minor": 0,
       "model_id": "d43a490680654a3aa7a5fe9dcc9676ce"
      }
     },
     "metadata": {},
     "output_type": "display_data"
    }
   ],
   "execution_count": 6
  },
  {
   "metadata": {},
   "cell_type": "markdown",
   "source": "# This will allow to create branches for the table ",
   "id": "3541433683db9a9"
  },
  {
   "metadata": {
    "ExecuteTime": {
     "end_time": "2024-07-11T16:10:51.361838Z",
     "start_time": "2024-07-11T16:10:49.635587Z"
    }
   },
   "cell_type": "code",
   "source": [
    "%%sql\n",
    "ALTER TABLE glue_catalog.playground.wap_demo3 SET TBLPROPERTIES (\n",
    "    'write.wap.enabled'='true'\n",
    ")"
   ],
   "id": "bd1a12ce7b2c90ee",
   "outputs": [
    {
     "data": {
      "text/plain": [
       "FloatProgress(value=0.0, bar_style='info', description='Progress:', layout=Layout(height='25px', width='50%'),…"
      ],
      "application/vnd.jupyter.widget-view+json": {
       "version_major": 2,
       "version_minor": 0,
       "model_id": "e18e6b3e4eb84a599add5e63b0f83318"
      }
     },
     "metadata": {},
     "output_type": "display_data"
    },
    {
     "data": {
      "text/plain": [
       "VBox(children=(HBox(), EncodingWidget(children=(VBox(children=(HTML(value='Encoding:'), Dropdown(description='…"
      ],
      "application/vnd.jupyter.widget-view+json": {
       "version_major": 2,
       "version_minor": 0,
       "model_id": "8e0af55bb47a409bab5a8a01c0624f64"
      }
     },
     "metadata": {},
     "output_type": "display_data"
    },
    {
     "data": {
      "text/plain": [
       "Output()"
      ],
      "application/vnd.jupyter.widget-view+json": {
       "version_major": 2,
       "version_minor": 0,
       "model_id": "7d2353e3924f422ea13cfc49bdf004c9"
      }
     },
     "metadata": {},
     "output_type": "display_data"
    }
   ],
   "execution_count": 8
  },
  {
   "metadata": {},
   "cell_type": "markdown",
   "source": "To create a branch and merge it into your mainline branch, Iceberg requires the mainline branch to be created first. Without it, even if you create a custom branch, you won't be able to merge the custom branch into the mainline. Currently, Iceberg does not allow the creation of a mainline without the initial insert statement. Therefore, to overcome this, you need to create a force a mainline branch creation using a fake branch . This is to be done for the 1st time . ",
   "id": "baa01630a039a3f4"
  },
  {
   "metadata": {
    "ExecuteTime": {
     "end_time": "2024-07-11T16:11:13.211763Z",
     "start_time": "2024-07-11T16:11:11.551356Z"
    }
   },
   "cell_type": "code",
   "source": [
    "%%sql \n",
    "ALTER TABLE glue_catalog.playground.wap_demo3\n",
    "CREATE BRANCH 20221201WAP"
   ],
   "id": "9ab3e9c07c715e27",
   "outputs": [
    {
     "data": {
      "text/plain": [
       "FloatProgress(value=0.0, bar_style='info', description='Progress:', layout=Layout(height='25px', width='50%'),…"
      ],
      "application/vnd.jupyter.widget-view+json": {
       "version_major": 2,
       "version_minor": 0,
       "model_id": "652e4f5d8db74ef189b45f0da8bb1357"
      }
     },
     "metadata": {},
     "output_type": "display_data"
    },
    {
     "data": {
      "text/plain": [
       "VBox(children=(HBox(), EncodingWidget(children=(VBox(children=(HTML(value='Encoding:'), Dropdown(description='…"
      ],
      "application/vnd.jupyter.widget-view+json": {
       "version_major": 2,
       "version_minor": 0,
       "model_id": "50bdbdead9e14312be036141cd4d0148"
      }
     },
     "metadata": {},
     "output_type": "display_data"
    },
    {
     "data": {
      "text/plain": [
       "Output()"
      ],
      "application/vnd.jupyter.widget-view+json": {
       "version_major": 2,
       "version_minor": 0,
       "model_id": "9fbe3a449a3f4973bc536ba1f270b0b5"
      }
     },
     "metadata": {},
     "output_type": "display_data"
    }
   ],
   "execution_count": 9
  },
  {
   "metadata": {
    "ExecuteTime": {
     "end_time": "2024-07-11T16:11:33.177826Z",
     "start_time": "2024-07-11T16:11:25.264710Z"
    }
   },
   "cell_type": "code",
   "source": "spark.sql(\"select * from glue_catalog.playground.wap_demo3.refs\").show()",
   "id": "e4a213bc553519e0",
   "outputs": [
    {
     "data": {
      "text/plain": [
       "FloatProgress(value=0.0, bar_style='info', description='Progress:', layout=Layout(height='25px', width='50%'),…"
      ],
      "application/vnd.jupyter.widget-view+json": {
       "version_major": 2,
       "version_minor": 0,
       "model_id": "f70b77adbad44f1aa62f8859345fc996"
      }
     },
     "metadata": {},
     "output_type": "display_data"
    },
    {
     "name": "stdout",
     "output_type": "stream",
     "text": [
      "+-----------+------+-------------------+-----------------------+---------------------+----------------------+\n",
      "|       name|  type|        snapshot_id|max_reference_age_in_ms|min_snapshots_to_keep|max_snapshot_age_in_ms|\n",
      "+-----------+------+-------------------+-----------------------+---------------------+----------------------+\n",
      "|20221201WAP|BRANCH|2994098468836002628|                   null|                 null|                  null|\n",
      "+-----------+------+-------------------+-----------------------+---------------------+----------------------+"
     ]
    }
   ],
   "execution_count": 11
  },
  {
   "metadata": {
    "ExecuteTime": {
     "end_time": "2024-07-11T16:13:29.797439Z",
     "start_time": "2024-07-11T16:13:13.165412Z"
    }
   },
   "cell_type": "code",
   "source": [
    "%%sql \n",
    "call glue_catalog.system.cherrypick_snapshot('glue_catalog.playground.wap_demo3',2994098468836002628)"
   ],
   "id": "3e953603b99441ae",
   "outputs": [
    {
     "data": {
      "text/plain": [
       "FloatProgress(value=0.0, bar_style='info', description='Progress:', layout=Layout(height='25px', width='50%'),…"
      ],
      "application/vnd.jupyter.widget-view+json": {
       "version_major": 2,
       "version_minor": 0,
       "model_id": "ed19be7ec4f14d75883b4c7c6172cfd1"
      }
     },
     "metadata": {},
     "output_type": "display_data"
    },
    {
     "data": {
      "text/plain": [
       "VBox(children=(HBox(children=(HTML(value='Type:'), Button(description='Table', layout=Layout(width='70px'), st…"
      ],
      "application/vnd.jupyter.widget-view+json": {
       "version_major": 2,
       "version_minor": 0,
       "model_id": "b60aaa42733d407d8d66d96385ff4d09"
      }
     },
     "metadata": {},
     "output_type": "display_data"
    },
    {
     "data": {
      "text/plain": [
       "Output()"
      ],
      "application/vnd.jupyter.widget-view+json": {
       "version_major": 2,
       "version_minor": 0,
       "model_id": "da245c7eac8841ddb41d7d025728a4b9"
      }
     },
     "metadata": {},
     "output_type": "display_data"
    }
   ],
   "execution_count": 12
  },
  {
   "metadata": {
    "ExecuteTime": {
     "end_time": "2024-07-11T16:13:43.997773Z",
     "start_time": "2024-07-11T16:13:36.099270Z"
    }
   },
   "cell_type": "code",
   "source": "spark.sql(\"select * from glue_catalog.playground.wap_demo3.refs\").show()",
   "id": "7f53a1a3168f3895",
   "outputs": [
    {
     "data": {
      "text/plain": [
       "FloatProgress(value=0.0, bar_style='info', description='Progress:', layout=Layout(height='25px', width='50%'),…"
      ],
      "application/vnd.jupyter.widget-view+json": {
       "version_major": 2,
       "version_minor": 0,
       "model_id": "a7b87ccdb7664294a66f7615a09a5f9b"
      }
     },
     "metadata": {},
     "output_type": "display_data"
    },
    {
     "name": "stdout",
     "output_type": "stream",
     "text": [
      "+-----------+------+-------------------+-----------------------+---------------------+----------------------+\n",
      "|       name|  type|        snapshot_id|max_reference_age_in_ms|min_snapshots_to_keep|max_snapshot_age_in_ms|\n",
      "+-----------+------+-------------------+-----------------------+---------------------+----------------------+\n",
      "|20221201WAP|BRANCH|2994098468836002628|                   null|                 null|                  null|\n",
      "|       main|BRANCH|2994098468836002628|                   null|                 null|                  null|\n",
      "+-----------+------+-------------------+-----------------------+---------------------+----------------------+"
     ]
    }
   ],
   "execution_count": 14
  },
  {
   "metadata": {},
   "cell_type": "markdown",
   "source": "## Lets implement WAP using Iceberg ",
   "id": "71e129125bc6a761"
  },
  {
   "metadata": {
    "ExecuteTime": {
     "end_time": "2024-07-11T16:14:32.508767Z",
     "start_time": "2024-07-11T16:14:31.400459Z"
    }
   },
   "cell_type": "code",
   "source": [
    "%%sql \n",
    "ALTER TABLE glue_catalog.playground.wap_demo3\n",
    "CREATE BRANCH 2024WAP RETAIN 7 DAYS"
   ],
   "id": "4f08a67bc52a2fbc",
   "outputs": [
    {
     "data": {
      "text/plain": [
       "FloatProgress(value=0.0, bar_style='info', description='Progress:', layout=Layout(height='25px', width='50%'),…"
      ],
      "application/vnd.jupyter.widget-view+json": {
       "version_major": 2,
       "version_minor": 0,
       "model_id": "378bdc92ecd4459792d7ea80401e1680"
      }
     },
     "metadata": {},
     "output_type": "display_data"
    },
    {
     "data": {
      "text/plain": [
       "VBox(children=(HBox(), EncodingWidget(children=(VBox(children=(HTML(value='Encoding:'), Dropdown(description='…"
      ],
      "application/vnd.jupyter.widget-view+json": {
       "version_major": 2,
       "version_minor": 0,
       "model_id": "6afd2ec7a92042ab8f4f92e16703358e"
      }
     },
     "metadata": {},
     "output_type": "display_data"
    },
    {
     "data": {
      "text/plain": [
       "Output()"
      ],
      "application/vnd.jupyter.widget-view+json": {
       "version_major": 2,
       "version_minor": 0,
       "model_id": "ab6a2169e1cb4c308fde5844adc92f27"
      }
     },
     "metadata": {},
     "output_type": "display_data"
    }
   ],
   "execution_count": 15
  },
  {
   "metadata": {
    "ExecuteTime": {
     "end_time": "2024-06-24T01:54:26.909300Z",
     "start_time": "2024-06-24T01:54:19.095203Z"
    }
   },
   "cell_type": "code",
   "source": "spark.sql(\"select * from glue_catalog.playground.wap_demo.refs\").show()",
   "id": "494570d173ab6057",
   "outputs": [
    {
     "data": {
      "text/plain": [
       "FloatProgress(value=0.0, bar_style='info', description='Progress:', layout=Layout(height='25px', width='50%'),…"
      ],
      "application/vnd.jupyter.widget-view+json": {
       "version_major": 2,
       "version_minor": 0,
       "model_id": "649fa720cd4a416abab54b65392d2819"
      }
     },
     "metadata": {},
     "output_type": "display_data"
    },
    {
     "name": "stdout",
     "output_type": "stream",
     "text": [
      "+-----------+------+-------------------+-----------------------+---------------------+----------------------+\n",
      "|       name|  type|        snapshot_id|max_reference_age_in_ms|min_snapshots_to_keep|max_snapshot_age_in_ms|\n",
      "+-----------+------+-------------------+-----------------------+---------------------+----------------------+\n",
      "|    2022WAP|BRANCH|1840343740250005065|                   null|                 null|                  null|\n",
      "|       main|BRANCH|1840343740250005065|                   null|                 null|                  null|\n",
      "|20221201WAP|BRANCH|1840343740250005065|                   null|                 null|                  null|\n",
      "|    2024WAP|BRANCH|1840343740250005065|              604800000|                 null|                  null|\n",
      "+-----------+------+-------------------+-----------------------+---------------------+----------------------+"
     ]
    }
   ],
   "execution_count": 30
  },
  {
   "metadata": {},
   "cell_type": "markdown",
   "source": [
    "lets write the data to the pre commit branch and run some data quality checks and if all the DQ checks passes \n",
    "then automatically the data will get merged to mainline\n"
   ],
   "id": "78fe65fd4aad0cab"
  },
  {
   "metadata": {
    "ExecuteTime": {
     "end_time": "2024-07-11T16:14:59.643339Z",
     "start_time": "2024-07-11T16:14:47.606880Z"
    }
   },
   "cell_type": "code",
   "source": [
    "#Reading the incoming data \n",
    "import pyspark.sql.functions as f\n",
    "df = spark.read.csv(\"s3://mxtdw-audit-gamma/demo_data/wap_data.csv\",header=True,inferSchema=True)\n",
    "df = df.withColumn(\"ingestion_date\",f.current_date())\n",
    "df.createOrReplaceTempView(\"incomingData\")\n",
    "df.printSchema()\n",
    "df.show()"
   ],
   "id": "a4b15f6add083ab0",
   "outputs": [
    {
     "data": {
      "text/plain": [
       "FloatProgress(value=0.0, bar_style='info', description='Progress:', layout=Layout(height='25px', width='50%'),…"
      ],
      "application/vnd.jupyter.widget-view+json": {
       "version_major": 2,
       "version_minor": 0,
       "model_id": "e153aa3ba6704e5b822839cda0ec8c90"
      }
     },
     "metadata": {},
     "output_type": "display_data"
    },
    {
     "name": "stdout",
     "output_type": "stream",
     "text": [
      "root\n",
      " |-- name: string (nullable = true)\n",
      " |-- phone: long (nullable = true)\n",
      " |-- email: string (nullable = true)\n",
      " |-- postalZip: integer (nullable = true)\n",
      " |-- number: integer (nullable = true)\n",
      " |-- country: string (nullable = true)\n",
      " |-- ingestion_date: date (nullable = false)\n",
      "\n",
      "+---------------+----------+--------------------+---------+------+------------------+--------------+\n",
      "|           name|     phone|               email|postalZip|number|           country|ingestion_date|\n",
      "+---------------+----------+--------------------+---------+------+------------------+--------------+\n",
      "|   Price Savage|4245624115|varius.ultrices@g...|   586986|     7|             India|    2024-07-11|\n",
      "|   Odette Logan|5627869778|ultricies.ligula@...|     1061|     8|Russian Federation|    2024-07-11|\n",
      "|Katell Buchanan|9354459637|magna@protonmail.net|    55526|     9|           Nigeria|    2024-07-11|\n",
      "|    Leigh Young|1808725898|ultrices.posuere....|     4906|    10|            Poland|    2024-07-11|\n",
      "|  Bianca Sexton|1808725891|risus.at@outlook.net|   115771|    11|           Vietnam|    2024-07-11|\n",
      "+---------------+----------+--------------------+---------+------+------------------+--------------+"
     ]
    }
   ],
   "execution_count": 16
  },
  {
   "metadata": {
    "ExecuteTime": {
     "end_time": "2024-07-11T16:15:57.599669Z",
     "start_time": "2024-07-11T16:15:57.390755Z"
    }
   },
   "cell_type": "code",
   "source": [
    "def merge_data(table_name:str,branch_name:str):\n",
    "    merge_ = \"\"\"\n",
    "        merge into glue_catalog.playground.wap_demo3.branch_{branchName} t \n",
    "        using {incomingData} s\n",
    "        on t.number = s.number \n",
    "        when matched then update set * \n",
    "        when not matched then insert *\n",
    "    \"\"\".format(incomingData=table_name,branchName=branch_name)\n",
    "    print(merge_)\n",
    "    spark.sql(merge_)\n",
    "    "
   ],
   "id": "2ed6fcca6ed5c4c8",
   "outputs": [
    {
     "data": {
      "text/plain": [
       "FloatProgress(value=0.0, bar_style='info', description='Progress:', layout=Layout(height='25px', width='50%'),…"
      ],
      "application/vnd.jupyter.widget-view+json": {
       "version_major": 2,
       "version_minor": 0,
       "model_id": "83b21169ff454ab889a7e8c87e3c93fe"
      }
     },
     "metadata": {},
     "output_type": "display_data"
    }
   ],
   "execution_count": 17
  },
  {
   "metadata": {
    "ExecuteTime": {
     "end_time": "2024-07-11T16:16:33.420315Z",
     "start_time": "2024-07-11T16:16:19.205512Z"
    }
   },
   "cell_type": "code",
   "source": "merge_data(\"incomingData\",\"2024WAP\")",
   "id": "9313ab79283877b0",
   "outputs": [
    {
     "data": {
      "text/plain": [
       "FloatProgress(value=0.0, bar_style='info', description='Progress:', layout=Layout(height='25px', width='50%'),…"
      ],
      "application/vnd.jupyter.widget-view+json": {
       "version_major": 2,
       "version_minor": 0,
       "model_id": "5edcc2bbf54048abaf717c7aecb10816"
      }
     },
     "metadata": {},
     "output_type": "display_data"
    },
    {
     "name": "stdout",
     "output_type": "stream",
     "text": [
      "\n",
      "        merge into glue_catalog.playground.wap_demo3.branch_2024WAP t \n",
      "        using incomingData s\n",
      "        on t.number = s.number \n",
      "        when matched then update set * \n",
      "        when not matched then insert *"
     ]
    }
   ],
   "execution_count": 18
  },
  {
   "metadata": {},
   "cell_type": "markdown",
   "source": "Lets Query the Branch data and the mainline table ",
   "id": "d0b4eeab408c1aa8"
  },
  {
   "metadata": {
    "ExecuteTime": {
     "end_time": "2024-07-11T16:16:40.847990Z",
     "start_time": "2024-07-11T16:16:38.154309Z"
    }
   },
   "cell_type": "code",
   "source": [
    "#Branch data has record\n",
    "spark.sql(\"select * from glue_catalog.playground.wap_demo3.branch_2024WAP\").show()"
   ],
   "id": "c810403b42306c73",
   "outputs": [
    {
     "data": {
      "text/plain": [
       "FloatProgress(value=0.0, bar_style='info', description='Progress:', layout=Layout(height='25px', width='50%'),…"
      ],
      "application/vnd.jupyter.widget-view+json": {
       "version_major": 2,
       "version_minor": 0,
       "model_id": "2671366cb0844619afa3b16c05a5d2ac"
      }
     },
     "metadata": {},
     "output_type": "display_data"
    },
    {
     "name": "stdout",
     "output_type": "stream",
     "text": [
      "+---------------+----------+--------------------+---------+------+------------------+--------------+\n",
      "|           name|     phone|               email|postalZip|number|           country|ingestion_date|\n",
      "+---------------+----------+--------------------+---------+------+------------------+--------------+\n",
      "|   Price Savage|4245624115|varius.ultrices@g...|   586986|     7|             India|    2024-07-11|\n",
      "|Katell Buchanan|9354459637|magna@protonmail.net|    55526|     9|           Nigeria|    2024-07-11|\n",
      "|    Leigh Young|1808725898|ultrices.posuere....|     4906|    10|            Poland|    2024-07-11|\n",
      "|   Odette Logan|5627869778|ultricies.ligula@...|     1061|     8|Russian Federation|    2024-07-11|\n",
      "|  Bianca Sexton|1808725891|risus.at@outlook.net|   115771|    11|           Vietnam|    2024-07-11|\n",
      "+---------------+----------+--------------------+---------+------+------------------+--------------+"
     ]
    }
   ],
   "execution_count": 19
  },
  {
   "metadata": {
    "ExecuteTime": {
     "end_time": "2024-07-11T16:16:48.593828Z",
     "start_time": "2024-07-11T16:16:48.103352Z"
    }
   },
   "cell_type": "code",
   "source": [
    "# as this is the first commit so mainline branch should not have any data \n",
    "spark.sql(\"select * from glue_catalog.playground.wap_demo3\").show()"
   ],
   "id": "10f7c9332f21aa4d",
   "outputs": [
    {
     "data": {
      "text/plain": [
       "FloatProgress(value=0.0, bar_style='info', description='Progress:', layout=Layout(height='25px', width='50%'),…"
      ],
      "application/vnd.jupyter.widget-view+json": {
       "version_major": 2,
       "version_minor": 0,
       "model_id": "1b9245fc428f42cbbf2a3d9ca46199bc"
      }
     },
     "metadata": {},
     "output_type": "display_data"
    },
    {
     "name": "stdout",
     "output_type": "stream",
     "text": [
      "+----+-----+-----+---------+------+-------+--------------+\n",
      "|name|phone|email|postalZip|number|country|ingestion_date|\n",
      "+----+-----+-----+---------+------+-------+--------------+\n",
      "+----+-----+-----+---------+------+-------+--------------+"
     ]
    }
   ],
   "execution_count": 20
  },
  {
   "metadata": {
    "ExecuteTime": {
     "end_time": "2024-07-11T16:17:14.323693Z",
     "start_time": "2024-07-11T16:17:14.069118Z"
    }
   },
   "cell_type": "code",
   "source": [
    "# Let's run some run automated data quality checks on the branch before it moves to prod \n",
    "import pyspark.sql.functions as f\n",
    "def run_data_quality_checks(branch_name):\n",
    "    \"\"\"\n",
    "    Phone number length should be == 10 \n",
    "    :return: \n",
    "    \"\"\"\n",
    "    df = spark.read.table(f\"glue_catalog.playground.wap_demo3.branch_{branch_name}\")\n",
    "    where_condition_checks = {\n",
    "        \"phone_number_check\":(f.col(\"phone\").isNull()) | (f.length(f.col(\"phone\"))<10) | (f.length(f.col(\"phone\"))>10)\n",
    "    }\n",
    "    for key,value in where_condition_checks.items():\n",
    "        print(f\"running data quality check for {key}\")\n",
    "        if not df.where(value).rdd.isEmpty():\n",
    "            print(f\"{key} data quality failed\")\n",
    "            return False\n",
    "    return True"
   ],
   "id": "cbdbff8165b3338d",
   "outputs": [
    {
     "data": {
      "text/plain": [
       "FloatProgress(value=0.0, bar_style='info', description='Progress:', layout=Layout(height='25px', width='50%'),…"
      ],
      "application/vnd.jupyter.widget-view+json": {
       "version_major": 2,
       "version_minor": 0,
       "model_id": "6139732dc4eb4488be076fe1e8514132"
      }
     },
     "metadata": {},
     "output_type": "display_data"
    }
   ],
   "execution_count": 21
  },
  {
   "metadata": {
    "ExecuteTime": {
     "end_time": "2024-07-11T16:17:41.353917Z",
     "start_time": "2024-07-11T16:17:38.626687Z"
    }
   },
   "cell_type": "code",
   "source": [
    "if run_data_quality_checks(\"2024WAP\"):\n",
    "    spark.sql(\"\"\"\n",
    "                CALL glue_catalog.system.fast_forward('playground.wap_demo3','main', '2024WAP')     \n",
    "              \"\"\")\n",
    "else:\n",
    "    print(\"Flagging off the branch as the data quality failed\")"
   ],
   "id": "f0f68a6bcdabe366",
   "outputs": [
    {
     "data": {
      "text/plain": [
       "FloatProgress(value=0.0, bar_style='info', description='Progress:', layout=Layout(height='25px', width='50%'),…"
      ],
      "application/vnd.jupyter.widget-view+json": {
       "version_major": 2,
       "version_minor": 0,
       "model_id": "a5324f9436834feaaa1e2ec57fd2c2c6"
      }
     },
     "metadata": {},
     "output_type": "display_data"
    },
    {
     "name": "stdout",
     "output_type": "stream",
     "text": [
      "running data quality check for phone_number_check\n",
      "DataFrame[branch_updated: string, previous_ref: bigint, updated_ref: bigint]"
     ]
    }
   ],
   "execution_count": 23
  },
  {
   "metadata": {},
   "cell_type": "markdown",
   "source": "Lets Query the Mainline Branch and check if the data has been merged . ",
   "id": "7044e553d6849f87"
  },
  {
   "metadata": {
    "ExecuteTime": {
     "end_time": "2024-07-11T16:18:05.158621Z",
     "start_time": "2024-07-11T16:18:04.108123Z"
    }
   },
   "cell_type": "code",
   "source": "spark.sql(\"select * from glue_catalog.playground.wap_demo3\").show()",
   "id": "b571083fe05e90e5",
   "outputs": [
    {
     "data": {
      "text/plain": [
       "FloatProgress(value=0.0, bar_style='info', description='Progress:', layout=Layout(height='25px', width='50%'),…"
      ],
      "application/vnd.jupyter.widget-view+json": {
       "version_major": 2,
       "version_minor": 0,
       "model_id": "d676e03962a146e992e5705bbadb7f1d"
      }
     },
     "metadata": {},
     "output_type": "display_data"
    },
    {
     "name": "stdout",
     "output_type": "stream",
     "text": [
      "+---------------+----------+--------------------+---------+------+------------------+--------------+\n",
      "|           name|     phone|               email|postalZip|number|           country|ingestion_date|\n",
      "+---------------+----------+--------------------+---------+------+------------------+--------------+\n",
      "|   Price Savage|4245624115|varius.ultrices@g...|   586986|     7|             India|    2024-07-11|\n",
      "|Katell Buchanan|9354459637|magna@protonmail.net|    55526|     9|           Nigeria|    2024-07-11|\n",
      "|    Leigh Young|1808725898|ultrices.posuere....|     4906|    10|            Poland|    2024-07-11|\n",
      "|   Odette Logan|5627869778|ultricies.ligula@...|     1061|     8|Russian Federation|    2024-07-11|\n",
      "|  Bianca Sexton|1808725891|risus.at@outlook.net|   115771|    11|           Vietnam|    2024-07-11|\n",
      "+---------------+----------+--------------------+---------+------+------------------+--------------+"
     ]
    }
   ],
   "execution_count": 24
  },
  {
   "metadata": {},
   "cell_type": "markdown",
   "source": "## Lets run another load for bad data ",
   "id": "7059db741922a48"
  },
  {
   "metadata": {
    "ExecuteTime": {
     "end_time": "2024-06-24T03:26:04.066185Z",
     "start_time": "2024-06-24T03:26:01.419020Z"
    }
   },
   "cell_type": "code",
   "source": [
    "#Reading the incoming data \n",
    "import pyspark.sql.functions as f\n",
    "df = spark.read.csv(\"s3://mxtdw-audit-gamma/demo_data/bad_data_quality.csv\",header=True,inferSchema=True)\n",
    "df = df.withColumn(\"ingestion_date\",f.current_date())\n",
    "df.createOrReplaceTempView(\"incomingData\")\n",
    "df.show(truncate=False)"
   ],
   "id": "1ff93ca553995e69",
   "outputs": [
    {
     "data": {
      "text/plain": [
       "FloatProgress(value=0.0, bar_style='info', description='Progress:', layout=Layout(height='25px', width='50%'),…"
      ],
      "application/vnd.jupyter.widget-view+json": {
       "version_major": 2,
       "version_minor": 0,
       "model_id": "1302eedcaa4f46cab003fe7053af3e7d"
      }
     },
     "metadata": {},
     "output_type": "display_data"
    },
    {
     "name": "stdout",
     "output_type": "stream",
     "text": [
      "+------------+-----------+------------------------+---------+------+-------+--------------+\n",
      "|name        |phone      |email                   |postalZip|number|country|ingestion_date|\n",
      "+------------+-----------+------------------------+---------+------+-------+--------------+\n",
      "|Price Savage|4245624115 |varius.ultrices@live.com|586986   |7     |India  |2024-06-24    |\n",
      "|Random Guy  |15627869778|null                    |1061     |10    |USA    |2024-06-24    |\n",
      "+------------+-----------+------------------------+---------+------+-------+--------------+"
     ]
    }
   ],
   "execution_count": 49
  },
  {
   "metadata": {
    "ExecuteTime": {
     "end_time": "2024-06-24T03:23:25.258837Z",
     "start_time": "2024-06-24T03:23:24.121806Z"
    }
   },
   "cell_type": "code",
   "source": [
    "%%sql \n",
    "ALTER TABLE glue_catalog.playground.wap_demo\n",
    "CREATE BRANCH 2025WAP RETAIN 7 DAYS"
   ],
   "id": "c8df9855967ab2a",
   "outputs": [
    {
     "data": {
      "text/plain": [
       "FloatProgress(value=0.0, bar_style='info', description='Progress:', layout=Layout(height='25px', width='50%'),…"
      ],
      "application/vnd.jupyter.widget-view+json": {
       "version_major": 2,
       "version_minor": 0,
       "model_id": "85d4f93a4c204de6a92b210172bedb74"
      }
     },
     "metadata": {},
     "output_type": "display_data"
    },
    {
     "data": {
      "text/plain": [
       "VBox(children=(HBox(), EncodingWidget(children=(VBox(children=(HTML(value='Encoding:'), Dropdown(description='…"
      ],
      "application/vnd.jupyter.widget-view+json": {
       "version_major": 2,
       "version_minor": 0,
       "model_id": "0a666d7b3c8b4367a1ff546aa5965d91"
      }
     },
     "metadata": {},
     "output_type": "display_data"
    },
    {
     "data": {
      "text/plain": [
       "Output()"
      ],
      "application/vnd.jupyter.widget-view+json": {
       "version_major": 2,
       "version_minor": 0,
       "model_id": "acb9bbb590164d549265ee0426946012"
      }
     },
     "metadata": {},
     "output_type": "display_data"
    }
   ],
   "execution_count": 44
  },
  {
   "metadata": {
    "ExecuteTime": {
     "end_time": "2024-06-24T03:23:53.174315Z",
     "start_time": "2024-06-24T03:23:45.261734Z"
    }
   },
   "cell_type": "code",
   "source": "merge_data(\"incomingData\",\"2025WAP\")",
   "id": "c26c1208a9be6556",
   "outputs": [
    {
     "data": {
      "text/plain": [
       "FloatProgress(value=0.0, bar_style='info', description='Progress:', layout=Layout(height='25px', width='50%'),…"
      ],
      "application/vnd.jupyter.widget-view+json": {
       "version_major": 2,
       "version_minor": 0,
       "model_id": "e79fc2eb0f7b49208a5baa53bbf143b5"
      }
     },
     "metadata": {},
     "output_type": "display_data"
    },
    {
     "name": "stdout",
     "output_type": "stream",
     "text": [
      "\n",
      "        merge into glue_catalog.playground.wap_demo.branch_2025WAP t \n",
      "        using incomingData s\n",
      "        on t.number = s.number \n",
      "        when matched then update set * \n",
      "        when not matched then insert *"
     ]
    }
   ],
   "execution_count": 45
  },
  {
   "metadata": {
    "ExecuteTime": {
     "end_time": "2024-06-24T03:25:58.977459Z",
     "start_time": "2024-06-24T03:25:49.045754Z"
    }
   },
   "cell_type": "code",
   "source": "spark.sql(\"select * from glue_catalog.playground.wap_demo.branch_2025WAP\").show(truncate=False)",
   "id": "7317e525cadd017d",
   "outputs": [
    {
     "data": {
      "text/plain": [
       "FloatProgress(value=0.0, bar_style='info', description='Progress:', layout=Layout(height='25px', width='50%'),…"
      ],
      "application/vnd.jupyter.widget-view+json": {
       "version_major": 2,
       "version_minor": 0,
       "model_id": "d8f2311b03534df5aee62e561ae99572"
      }
     },
     "metadata": {},
     "output_type": "display_data"
    },
    {
     "name": "stdout",
     "output_type": "stream",
     "text": [
      "+---------------+-----------+---------------------------+---------+------+------------------+--------------+\n",
      "|name           |phone      |email                      |postalZip|number|country           |ingestion_date|\n",
      "+---------------+-----------+---------------------------+---------+------+------------------+--------------+\n",
      "|Katell Buchanan|9354459637 |magna@protonmail.net       |55526    |9     |Nigeria           |2024-06-24    |\n",
      "|Odette Logan   |5627869778 |ultricies.ligula@icloud.net|1061     |8     |Russian Federation|2024-06-24    |\n",
      "|Bianca Sexton  |1808725891 |risus.at@outlook.net       |115771   |11    |Vietnam           |2024-06-24    |\n",
      "|Price Savage   |4245624115 |varius.ultrices@live.com   |586986   |7     |India             |2024-06-24    |\n",
      "|Random Guy     |15627869778|null                       |1061     |10    |USA               |2024-06-24    |\n",
      "+---------------+-----------+---------------------------+---------+------+------------------+--------------+"
     ]
    }
   ],
   "execution_count": 48
  },
  {
   "metadata": {
    "ExecuteTime": {
     "end_time": "2024-06-24T03:26:31.845530Z",
     "start_time": "2024-06-24T03:26:27.996190Z"
    }
   },
   "cell_type": "code",
   "source": [
    "if run_data_quality_checks():\n",
    "    spark.sql(\"\"\"\n",
    "                CALL glue_catalog.system.fast_forward('playground.wap_demo','main', '2025WAP')     \n",
    "              \"\"\")\n",
    "else:\n",
    "    print(\"Flagging off the branch as the data quality failed\")"
   ],
   "id": "b3f0d1d2306b9a3b",
   "outputs": [
    {
     "data": {
      "text/plain": [
       "FloatProgress(value=0.0, bar_style='info', description='Progress:', layout=Layout(height='25px', width='50%'),…"
      ],
      "application/vnd.jupyter.widget-view+json": {
       "version_major": 2,
       "version_minor": 0,
       "model_id": "5840cf04758947e68f1870f35cf495b6"
      }
     },
     "metadata": {},
     "output_type": "display_data"
    },
    {
     "name": "stdout",
     "output_type": "stream",
     "text": [
      "running data quality check for phone_number_check\n",
      "DataFrame[branch_updated: string, previous_ref: bigint, updated_ref: bigint]"
     ]
    }
   ],
   "execution_count": 50
  },
  {
   "metadata": {},
   "cell_type": "code",
   "outputs": [],
   "execution_count": null,
   "source": "",
   "id": "18d016708638e519"
  }
 ],
 "metadata": {
  "kernelspec": {
   "display_name": "PySpark",
   "language": "python",
   "name": "pysparkkernel"
  },
  "language_info": {
   "codemirror_mode": {
    "name": "ipython",
    "version": 2
   },
   "file_extension": ".py",
   "mimetype": "text/x-python",
   "name": "python",
   "nbconvert_exporter": "python",
   "pygments_lexer": "ipython2",
   "version": "2.7.6"
  }
 },
 "nbformat": 4,
 "nbformat_minor": 5
}
